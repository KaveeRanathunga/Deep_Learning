{
 "cells": [
  {
   "cell_type": "code",
   "execution_count": 1,
   "id": "7d548f4e-387c-4607-ac36-724ade2b2fc9",
   "metadata": {},
   "outputs": [
    {
     "name": "stdout",
     "output_type": "stream",
     "text": [
      "['Cat', 'Dog']\n",
      "[0 1]\n",
      "{'Cat': 0, 'Dog': 1}\n"
     ]
    }
   ],
   "source": [
    "import os \n",
    "import numpy as np\n",
    "\n",
    "data_path=r'D:\\KAVEESHA\\DataScience\\Resourses\\kagglecatsanddogs_5340\\PetImages'\n",
    "categories=os.listdir(data_path)\n",
    "print(categories)\n",
    "\n",
    "labels=np.arange(len(categories))\n",
    "print(labels)\n",
    "\n",
    "label_dict=dict(zip(categories,labels))\n",
    "print(label_dict)"
   ]
  },
  {
   "cell_type": "markdown",
   "id": "30ef9544-d3b0-4d9b-bcc1-d335bb3ea002",
   "metadata": {},
   "source": [
    "### cv2: OpenCV library for reading and processing images.\n",
    "\n",
    "##### cv2.imread(img_path)\t- Loads the image from disk\n",
    "##### cv2.cvtColor(..., COLOR_BGR2GRAY)\t- Converts the image to grayscale (1 channel) to reduce complexity\n",
    "##### cv2.resize(..., (img_size, img_size))\t- Resizes image to 50x50 pixels\n",
    "##### data.append(img)\t- Adds processed image to your list\n",
    "##### target.append(label_dict[category])\t- Adds the label (e.g., 0 for Cat) using the dictionary you created earlier"
   ]
  },
  {
   "cell_type": "code",
   "execution_count": 19,
   "id": "38204b33-a3c8-4f83-abde-8a91176c1441",
   "metadata": {},
   "outputs": [
    {
     "name": "stdout",
     "output_type": "stream",
     "text": [
      "0\n",
      "D:\\KAVEESHA\\DataScience\\Resourses\\kagglecatsanddogs_5340\\PetImages\\Cat\\10125.jpg OpenCV(4.11.0) D:\\a\\opencv-python\\opencv-python\\opencv\\modules\\imgproc\\src\\color.cpp:199: error: (-215:Assertion failed) !_src.empty() in function 'cv::cvtColor'\n",
      "\n",
      "D:\\KAVEESHA\\DataScience\\Resourses\\kagglecatsanddogs_5340\\PetImages\\Cat\\10404.jpg OpenCV(4.11.0) D:\\a\\opencv-python\\opencv-python\\opencv\\modules\\imgproc\\src\\color.cpp:199: error: (-215:Assertion failed) !_src.empty() in function 'cv::cvtColor'\n",
      "\n",
      "D:\\KAVEESHA\\DataScience\\Resourses\\kagglecatsanddogs_5340\\PetImages\\Cat\\10501.jpg OpenCV(4.11.0) D:\\a\\opencv-python\\opencv-python\\opencv\\modules\\imgproc\\src\\color.cpp:199: error: (-215:Assertion failed) !_src.empty() in function 'cv::cvtColor'\n",
      "\n",
      "D:\\KAVEESHA\\DataScience\\Resourses\\kagglecatsanddogs_5340\\PetImages\\Cat\\10820.jpg OpenCV(4.11.0) D:\\a\\opencv-python\\opencv-python\\opencv\\modules\\imgproc\\src\\color.cpp:199: error: (-215:Assertion failed) !_src.empty() in function 'cv::cvtColor'\n",
      "\n",
      "D:\\KAVEESHA\\DataScience\\Resourses\\kagglecatsanddogs_5340\\PetImages\\Cat\\11210.jpg OpenCV(4.11.0) D:\\a\\opencv-python\\opencv-python\\opencv\\modules\\imgproc\\src\\color.cpp:199: error: (-215:Assertion failed) !_src.empty() in function 'cv::cvtColor'\n",
      "\n",
      "D:\\KAVEESHA\\DataScience\\Resourses\\kagglecatsanddogs_5340\\PetImages\\Cat\\11565.jpg OpenCV(4.11.0) D:\\a\\opencv-python\\opencv-python\\opencv\\modules\\imgproc\\src\\color.cpp:199: error: (-215:Assertion failed) !_src.empty() in function 'cv::cvtColor'\n",
      "\n",
      "2000\n",
      "D:\\KAVEESHA\\DataScience\\Resourses\\kagglecatsanddogs_5340\\PetImages\\Cat\\11874.jpg OpenCV(4.11.0) D:\\a\\opencv-python\\opencv-python\\opencv\\modules\\imgproc\\src\\color.cpp:199: error: (-215:Assertion failed) !_src.empty() in function 'cv::cvtColor'\n",
      "\n",
      "D:\\KAVEESHA\\DataScience\\Resourses\\kagglecatsanddogs_5340\\PetImages\\Cat\\11935.jpg OpenCV(4.11.0) D:\\a\\opencv-python\\opencv-python\\opencv\\modules\\imgproc\\src\\color.cpp:199: error: (-215:Assertion failed) !_src.empty() in function 'cv::cvtColor'\n",
      "\n",
      "D:\\KAVEESHA\\DataScience\\Resourses\\kagglecatsanddogs_5340\\PetImages\\Cat\\140.jpg OpenCV(4.11.0) D:\\a\\opencv-python\\opencv-python\\opencv\\modules\\imgproc\\src\\color.cpp:199: error: (-215:Assertion failed) !_src.empty() in function 'cv::cvtColor'\n",
      "\n",
      "4000\n",
      "D:\\KAVEESHA\\DataScience\\Resourses\\kagglecatsanddogs_5340\\PetImages\\Cat\\2663.jpg OpenCV(4.11.0) D:\\a\\opencv-python\\opencv-python\\opencv\\modules\\imgproc\\src\\color.cpp:199: error: (-215:Assertion failed) !_src.empty() in function 'cv::cvtColor'\n",
      "\n",
      "D:\\KAVEESHA\\DataScience\\Resourses\\kagglecatsanddogs_5340\\PetImages\\Cat\\3300.jpg OpenCV(4.11.0) D:\\a\\opencv-python\\opencv-python\\opencv\\modules\\imgproc\\src\\color.cpp:199: error: (-215:Assertion failed) !_src.empty() in function 'cv::cvtColor'\n",
      "\n",
      "D:\\KAVEESHA\\DataScience\\Resourses\\kagglecatsanddogs_5340\\PetImages\\Cat\\3491.jpg OpenCV(4.11.0) D:\\a\\opencv-python\\opencv-python\\opencv\\modules\\imgproc\\src\\color.cpp:199: error: (-215:Assertion failed) !_src.empty() in function 'cv::cvtColor'\n",
      "\n",
      "6000\n",
      "D:\\KAVEESHA\\DataScience\\Resourses\\kagglecatsanddogs_5340\\PetImages\\Cat\\4833.jpg OpenCV(4.11.0) D:\\a\\opencv-python\\opencv-python\\opencv\\modules\\imgproc\\src\\color.cpp:199: error: (-215:Assertion failed) !_src.empty() in function 'cv::cvtColor'\n",
      "\n",
      "D:\\KAVEESHA\\DataScience\\Resourses\\kagglecatsanddogs_5340\\PetImages\\Cat\\5553.jpg OpenCV(4.11.0) D:\\a\\opencv-python\\opencv-python\\opencv\\modules\\imgproc\\src\\color.cpp:199: error: (-215:Assertion failed) !_src.empty() in function 'cv::cvtColor'\n",
      "\n",
      "8000\n",
      "D:\\KAVEESHA\\DataScience\\Resourses\\kagglecatsanddogs_5340\\PetImages\\Cat\\660.jpg OpenCV(4.11.0) D:\\a\\opencv-python\\opencv-python\\opencv\\modules\\imgproc\\src\\color.cpp:199: error: (-215:Assertion failed) !_src.empty() in function 'cv::cvtColor'\n",
      "\n",
      "D:\\KAVEESHA\\DataScience\\Resourses\\kagglecatsanddogs_5340\\PetImages\\Cat\\666.jpg OpenCV(4.11.0) D:\\a\\opencv-python\\opencv-python\\opencv\\modules\\imgproc\\src\\color.cpp:199: error: (-215:Assertion failed) !_src.empty() in function 'cv::cvtColor'\n",
      "\n",
      "10000\n",
      "D:\\KAVEESHA\\DataScience\\Resourses\\kagglecatsanddogs_5340\\PetImages\\Cat\\7968.jpg OpenCV(4.11.0) D:\\a\\opencv-python\\opencv-python\\opencv\\modules\\imgproc\\src\\color.cpp:199: error: (-215:Assertion failed) !_src.empty() in function 'cv::cvtColor'\n",
      "\n",
      "D:\\KAVEESHA\\DataScience\\Resourses\\kagglecatsanddogs_5340\\PetImages\\Cat\\7978.jpg OpenCV(4.11.0) D:\\a\\opencv-python\\opencv-python\\opencv\\modules\\imgproc\\src\\color.cpp:199: error: (-215:Assertion failed) !_src.empty() in function 'cv::cvtColor'\n",
      "\n",
      "D:\\KAVEESHA\\DataScience\\Resourses\\kagglecatsanddogs_5340\\PetImages\\Cat\\8470.jpg OpenCV(4.11.0) D:\\a\\opencv-python\\opencv-python\\opencv\\modules\\imgproc\\src\\color.cpp:199: error: (-215:Assertion failed) !_src.empty() in function 'cv::cvtColor'\n",
      "\n",
      "D:\\KAVEESHA\\DataScience\\Resourses\\kagglecatsanddogs_5340\\PetImages\\Cat\\850.jpg OpenCV(4.11.0) D:\\a\\opencv-python\\opencv-python\\opencv\\modules\\imgproc\\src\\color.cpp:199: error: (-215:Assertion failed) !_src.empty() in function 'cv::cvtColor'\n",
      "\n",
      "D:\\KAVEESHA\\DataScience\\Resourses\\kagglecatsanddogs_5340\\PetImages\\Cat\\9171.jpg OpenCV(4.11.0) D:\\a\\opencv-python\\opencv-python\\opencv\\modules\\imgproc\\src\\color.cpp:199: error: (-215:Assertion failed) !_src.empty() in function 'cv::cvtColor'\n",
      "\n",
      "D:\\KAVEESHA\\DataScience\\Resourses\\kagglecatsanddogs_5340\\PetImages\\Cat\\936.jpg OpenCV(4.11.0) D:\\a\\opencv-python\\opencv-python\\opencv\\modules\\imgproc\\src\\color.cpp:199: error: (-215:Assertion failed) !_src.empty() in function 'cv::cvtColor'\n",
      "\n",
      "D:\\KAVEESHA\\DataScience\\Resourses\\kagglecatsanddogs_5340\\PetImages\\Cat\\9565.jpg OpenCV(4.11.0) D:\\a\\opencv-python\\opencv-python\\opencv\\modules\\imgproc\\src\\color.cpp:199: error: (-215:Assertion failed) !_src.empty() in function 'cv::cvtColor'\n",
      "\n",
      "12000\n",
      "D:\\KAVEESHA\\DataScience\\Resourses\\kagglecatsanddogs_5340\\PetImages\\Cat\\9778.jpg OpenCV(4.11.0) D:\\a\\opencv-python\\opencv-python\\opencv\\modules\\imgproc\\src\\color.cpp:199: error: (-215:Assertion failed) !_src.empty() in function 'cv::cvtColor'\n",
      "\n",
      "D:\\KAVEESHA\\DataScience\\Resourses\\kagglecatsanddogs_5340\\PetImages\\Cat\\Thumbs.db OpenCV(4.11.0) D:\\a\\opencv-python\\opencv-python\\opencv\\modules\\imgproc\\src\\color.cpp:199: error: (-215:Assertion failed) !_src.empty() in function 'cv::cvtColor'\n",
      "\n",
      "D:\\KAVEESHA\\DataScience\\Resourses\\kagglecatsanddogs_5340\\PetImages\\Dog\\10158.jpg OpenCV(4.11.0) D:\\a\\opencv-python\\opencv-python\\opencv\\modules\\imgproc\\src\\color.cpp:199: error: (-215:Assertion failed) !_src.empty() in function 'cv::cvtColor'\n",
      "\n",
      "D:\\KAVEESHA\\DataScience\\Resourses\\kagglecatsanddogs_5340\\PetImages\\Dog\\10401.jpg OpenCV(4.11.0) D:\\a\\opencv-python\\opencv-python\\opencv\\modules\\imgproc\\src\\color.cpp:199: error: (-215:Assertion failed) !_src.empty() in function 'cv::cvtColor'\n",
      "\n",
      "D:\\KAVEESHA\\DataScience\\Resourses\\kagglecatsanddogs_5340\\PetImages\\Dog\\10747.jpg OpenCV(4.11.0) D:\\a\\opencv-python\\opencv-python\\opencv\\modules\\imgproc\\src\\color.cpp:199: error: (-215:Assertion failed) !_src.empty() in function 'cv::cvtColor'\n",
      "\n",
      "D:\\KAVEESHA\\DataScience\\Resourses\\kagglecatsanddogs_5340\\PetImages\\Dog\\10797.jpg OpenCV(4.11.0) D:\\a\\opencv-python\\opencv-python\\opencv\\modules\\imgproc\\src\\color.cpp:199: error: (-215:Assertion failed) !_src.empty() in function 'cv::cvtColor'\n",
      "\n",
      "14000\n",
      "D:\\KAVEESHA\\DataScience\\Resourses\\kagglecatsanddogs_5340\\PetImages\\Dog\\11410.jpg OpenCV(4.11.0) D:\\a\\opencv-python\\opencv-python\\opencv\\modules\\imgproc\\src\\color.cpp:199: error: (-215:Assertion failed) !_src.empty() in function 'cv::cvtColor'\n",
      "\n",
      "D:\\KAVEESHA\\DataScience\\Resourses\\kagglecatsanddogs_5340\\PetImages\\Dog\\11675.jpg OpenCV(4.11.0) D:\\a\\opencv-python\\opencv-python\\opencv\\modules\\imgproc\\src\\color.cpp:199: error: (-215:Assertion failed) !_src.empty() in function 'cv::cvtColor'\n",
      "\n",
      "D:\\KAVEESHA\\DataScience\\Resourses\\kagglecatsanddogs_5340\\PetImages\\Dog\\11702.jpg OpenCV(4.11.0) D:\\a\\opencv-python\\opencv-python\\opencv\\modules\\imgproc\\src\\color.cpp:199: error: (-215:Assertion failed) !_src.empty() in function 'cv::cvtColor'\n",
      "\n",
      "D:\\KAVEESHA\\DataScience\\Resourses\\kagglecatsanddogs_5340\\PetImages\\Dog\\11849.jpg OpenCV(4.11.0) D:\\a\\opencv-python\\opencv-python\\opencv\\modules\\imgproc\\src\\color.cpp:199: error: (-215:Assertion failed) !_src.empty() in function 'cv::cvtColor'\n",
      "\n",
      "D:\\KAVEESHA\\DataScience\\Resourses\\kagglecatsanddogs_5340\\PetImages\\Dog\\11853.jpg OpenCV(4.11.0) D:\\a\\opencv-python\\opencv-python\\opencv\\modules\\imgproc\\src\\color.cpp:199: error: (-215:Assertion failed) !_src.empty() in function 'cv::cvtColor'\n",
      "\n",
      "D:\\KAVEESHA\\DataScience\\Resourses\\kagglecatsanddogs_5340\\PetImages\\Dog\\1308.jpg OpenCV(4.11.0) D:\\a\\opencv-python\\opencv-python\\opencv\\modules\\imgproc\\src\\color.cpp:199: error: (-215:Assertion failed) !_src.empty() in function 'cv::cvtColor'\n",
      "\n",
      "D:\\KAVEESHA\\DataScience\\Resourses\\kagglecatsanddogs_5340\\PetImages\\Dog\\1866.jpg OpenCV(4.11.0) D:\\a\\opencv-python\\opencv-python\\opencv\\modules\\imgproc\\src\\color.cpp:199: error: (-215:Assertion failed) !_src.empty() in function 'cv::cvtColor'\n",
      "\n",
      "16000\n",
      "D:\\KAVEESHA\\DataScience\\Resourses\\kagglecatsanddogs_5340\\PetImages\\Dog\\2384.jpg OpenCV(4.11.0) D:\\a\\opencv-python\\opencv-python\\opencv\\modules\\imgproc\\src\\color.cpp:199: error: (-215:Assertion failed) !_src.empty() in function 'cv::cvtColor'\n",
      "\n",
      "D:\\KAVEESHA\\DataScience\\Resourses\\kagglecatsanddogs_5340\\PetImages\\Dog\\2688.jpg OpenCV(4.11.0) D:\\a\\opencv-python\\opencv-python\\opencv\\modules\\imgproc\\src\\color.cpp:199: error: (-215:Assertion failed) !_src.empty() in function 'cv::cvtColor'\n",
      "\n",
      "D:\\KAVEESHA\\DataScience\\Resourses\\kagglecatsanddogs_5340\\PetImages\\Dog\\2877.jpg OpenCV(4.11.0) D:\\a\\opencv-python\\opencv-python\\opencv\\modules\\imgproc\\src\\color.cpp:199: error: (-215:Assertion failed) !_src.empty() in function 'cv::cvtColor'\n",
      "\n",
      "D:\\KAVEESHA\\DataScience\\Resourses\\kagglecatsanddogs_5340\\PetImages\\Dog\\3136.jpg OpenCV(4.11.0) D:\\a\\opencv-python\\opencv-python\\opencv\\modules\\imgproc\\src\\color.cpp:199: error: (-215:Assertion failed) !_src.empty() in function 'cv::cvtColor'\n",
      "\n",
      "D:\\KAVEESHA\\DataScience\\Resourses\\kagglecatsanddogs_5340\\PetImages\\Dog\\3288.jpg OpenCV(4.11.0) D:\\a\\opencv-python\\opencv-python\\opencv\\modules\\imgproc\\src\\color.cpp:199: error: (-215:Assertion failed) !_src.empty() in function 'cv::cvtColor'\n",
      "\n",
      "D:\\KAVEESHA\\DataScience\\Resourses\\kagglecatsanddogs_5340\\PetImages\\Dog\\3588.jpg OpenCV(4.11.0) D:\\a\\opencv-python\\opencv-python\\opencv\\modules\\imgproc\\src\\color.cpp:199: error: (-215:Assertion failed) !_src.empty() in function 'cv::cvtColor'\n",
      "\n",
      "18000\n",
      "D:\\KAVEESHA\\DataScience\\Resourses\\kagglecatsanddogs_5340\\PetImages\\Dog\\4367.jpg OpenCV(4.11.0) D:\\a\\opencv-python\\opencv-python\\opencv\\modules\\imgproc\\src\\color.cpp:199: error: (-215:Assertion failed) !_src.empty() in function 'cv::cvtColor'\n",
      "\n",
      "20000\n",
      "D:\\KAVEESHA\\DataScience\\Resourses\\kagglecatsanddogs_5340\\PetImages\\Dog\\5604.jpg OpenCV(4.11.0) D:\\a\\opencv-python\\opencv-python\\opencv\\modules\\imgproc\\src\\color.cpp:199: error: (-215:Assertion failed) !_src.empty() in function 'cv::cvtColor'\n",
      "\n",
      "D:\\KAVEESHA\\DataScience\\Resourses\\kagglecatsanddogs_5340\\PetImages\\Dog\\5736.jpg OpenCV(4.11.0) D:\\a\\opencv-python\\opencv-python\\opencv\\modules\\imgproc\\src\\color.cpp:199: error: (-215:Assertion failed) !_src.empty() in function 'cv::cvtColor'\n",
      "\n",
      "D:\\KAVEESHA\\DataScience\\Resourses\\kagglecatsanddogs_5340\\PetImages\\Dog\\6059.jpg OpenCV(4.11.0) D:\\a\\opencv-python\\opencv-python\\opencv\\modules\\imgproc\\src\\color.cpp:199: error: (-215:Assertion failed) !_src.empty() in function 'cv::cvtColor'\n",
      "\n",
      "D:\\KAVEESHA\\DataScience\\Resourses\\kagglecatsanddogs_5340\\PetImages\\Dog\\6238.jpg OpenCV(4.11.0) D:\\a\\opencv-python\\opencv-python\\opencv\\modules\\imgproc\\src\\color.cpp:199: error: (-215:Assertion failed) !_src.empty() in function 'cv::cvtColor'\n",
      "\n",
      "D:\\KAVEESHA\\DataScience\\Resourses\\kagglecatsanddogs_5340\\PetImages\\Dog\\6718.jpg OpenCV(4.11.0) D:\\a\\opencv-python\\opencv-python\\opencv\\modules\\imgproc\\src\\color.cpp:199: error: (-215:Assertion failed) !_src.empty() in function 'cv::cvtColor'\n",
      "\n",
      "D:\\KAVEESHA\\DataScience\\Resourses\\kagglecatsanddogs_5340\\PetImages\\Dog\\7112.jpg OpenCV(4.11.0) D:\\a\\opencv-python\\opencv-python\\opencv\\modules\\imgproc\\src\\color.cpp:199: error: (-215:Assertion failed) !_src.empty() in function 'cv::cvtColor'\n",
      "\n",
      "D:\\KAVEESHA\\DataScience\\Resourses\\kagglecatsanddogs_5340\\PetImages\\Dog\\7133.jpg OpenCV(4.11.0) D:\\a\\opencv-python\\opencv-python\\opencv\\modules\\imgproc\\src\\color.cpp:199: error: (-215:Assertion failed) !_src.empty() in function 'cv::cvtColor'\n",
      "\n",
      "22000\n",
      "D:\\KAVEESHA\\DataScience\\Resourses\\kagglecatsanddogs_5340\\PetImages\\Dog\\7369.jpg OpenCV(4.11.0) D:\\a\\opencv-python\\opencv-python\\opencv\\modules\\imgproc\\src\\color.cpp:199: error: (-215:Assertion failed) !_src.empty() in function 'cv::cvtColor'\n",
      "\n",
      "D:\\KAVEESHA\\DataScience\\Resourses\\kagglecatsanddogs_5340\\PetImages\\Dog\\7459.jpg OpenCV(4.11.0) D:\\a\\opencv-python\\opencv-python\\opencv\\modules\\imgproc\\src\\color.cpp:199: error: (-215:Assertion failed) !_src.empty() in function 'cv::cvtColor'\n",
      "\n",
      "D:\\KAVEESHA\\DataScience\\Resourses\\kagglecatsanddogs_5340\\PetImages\\Dog\\7969.jpg OpenCV(4.11.0) D:\\a\\opencv-python\\opencv-python\\opencv\\modules\\imgproc\\src\\color.cpp:199: error: (-215:Assertion failed) !_src.empty() in function 'cv::cvtColor'\n",
      "\n",
      "D:\\KAVEESHA\\DataScience\\Resourses\\kagglecatsanddogs_5340\\PetImages\\Dog\\8730.jpg OpenCV(4.11.0) D:\\a\\opencv-python\\opencv-python\\opencv\\modules\\imgproc\\src\\color.cpp:199: error: (-215:Assertion failed) !_src.empty() in function 'cv::cvtColor'\n",
      "\n",
      "24000\n",
      "D:\\KAVEESHA\\DataScience\\Resourses\\kagglecatsanddogs_5340\\PetImages\\Dog\\9188.jpg OpenCV(4.11.0) D:\\a\\opencv-python\\opencv-python\\opencv\\modules\\imgproc\\src\\color.cpp:199: error: (-215:Assertion failed) !_src.empty() in function 'cv::cvtColor'\n",
      "\n",
      "D:\\KAVEESHA\\DataScience\\Resourses\\kagglecatsanddogs_5340\\PetImages\\Dog\\Thumbs.db OpenCV(4.11.0) D:\\a\\opencv-python\\opencv-python\\opencv\\modules\\imgproc\\src\\color.cpp:199: error: (-215:Assertion failed) !_src.empty() in function 'cv::cvtColor'\n",
      "\n"
     ]
    }
   ],
   "source": [
    "import cv2\n",
    "\n",
    "img_size=50  # TO convert all images to same size\n",
    "\n",
    "data=[]\n",
    "target=[]\n",
    "count = 0\n",
    "\n",
    "for category in categories:\n",
    "    \n",
    "    category_path= os.path.join(data_path,category)\n",
    "    #print(img_path)\n",
    "    \n",
    "    img_names=os.listdir(category_path)\n",
    "    #print(img_names)\n",
    "    \n",
    "    for img_name in img_names:\n",
    "        if(count%2000 == 0):\n",
    "            print(count)\n",
    "        #print(img_name)\n",
    "        img_path=os.path.join(category_path,img_name)\n",
    "        #print(img_path)\n",
    "\n",
    "        # img = cv2.imread(img_path)\n",
    "        # cv2.imshow('LIVE',img)\n",
    "        # k = cv2.waitKey(1000)\n",
    "        \n",
    "        try:\n",
    "             img=cv2.imread(img_path)\n",
    "             img=cv2.cvtColor(img,cv2.COLOR_BGR2GRAY)\n",
    "             img=cv2.resize(img,(img_size,img_size))\n",
    "\n",
    "             data.append(img)\n",
    "             target.append(label_dict[category])\n",
    "             count += 1\n",
    "        except Exception as e:\n",
    "             print(img_path,e)"
   ]
  },
  {
   "cell_type": "code",
   "execution_count": 7,
   "id": "20953347-7d02-4307-a4c6-681c72f9b6a1",
   "metadata": {},
   "outputs": [],
   "source": [
    "data_new=np.array(data)\n",
    "target_new=np.array(target)"
   ]
  },
  {
   "cell_type": "code",
   "execution_count": 8,
   "id": "d74a6798-e00b-464b-8645-bebdb402b0d9",
   "metadata": {},
   "outputs": [
    {
     "name": "stdout",
     "output_type": "stream",
     "text": [
      "(24946, 50, 50)\n",
      "(24946,)\n"
     ]
    }
   ],
   "source": [
    "print(data_new.shape)\n",
    "print(target_new.shape)"
   ]
  },
  {
   "cell_type": "code",
   "execution_count": 12,
   "id": "1ed78b6d-c024-4e68-b9a0-8266791853b9",
   "metadata": {},
   "outputs": [
    {
     "data": {
      "text/plain": [
       "<matplotlib.image.AxesImage at 0x22a83202390>"
      ]
     },
     "execution_count": 12,
     "metadata": {},
     "output_type": "execute_result"
    },
    {
     "data": {
      "image/png": "[encoded data removed]",
      "text/plain": [
       "<Figure size 640x480 with 1 Axes>"
      ]
     },
     "metadata": {},
     "output_type": "display_data"
    }
   ],
   "source": [
    "from matplotlib import pyplot as plt\n",
    "\n",
    "plt.imshow(data[16000],cmap='gray')"
   ]
  },
  {
   "cell_type": "code",
   "execution_count": 22,
   "id": "c6d4c6d9-3413-4c10-abc6-116df82bc36d",
   "metadata": {},
   "outputs": [
    {
     "data": {
      "text/plain": [
       "array([1., 0.])"
      ]
     },
     "execution_count": 22,
     "metadata": {},
     "output_type": "execute_result"
    }
   ],
   "source": [
    "target_new[100]"
   ]
  },
  {
   "cell_type": "code",
   "execution_count": 23,
   "id": "65744a43-0fd7-49fd-bc1e-894593483aa0",
   "metadata": {},
   "outputs": [
    {
     "name": "stdout",
     "output_type": "stream",
     "text": [
      "(24946, 50, 50, 1)\n",
      "24946 50 50\n"
     ]
    }
   ],
   "source": [
    "print(data_new.shape)\n",
    "print(data_new.shape[0],data_new.shape[1],data_new.shape[2])"
   ]
  },
  {
   "cell_type": "code",
   "execution_count": 24,
   "id": "685c41ab-0b2d-4c27-8c7c-2f0c21d5bdc5",
   "metadata": {},
   "outputs": [
    {
     "name": "stdout",
     "output_type": "stream",
     "text": [
      "(24946, 50, 50, 1)\n"
     ]
    }
   ],
   "source": [
    "data_new=data_new.reshape(data_new.shape[0],data_new.shape[1],data_new.shape[2],1) # converting to 4D, CNN needs 4D input\n",
    "print(data_new.shape)"
   ]
  },
  {
   "cell_type": "code",
   "execution_count": 25,
   "id": "0304e609-8270-490f-a526-985c19e8fe8c",
   "metadata": {},
   "outputs": [],
   "source": [
    "data_new=data_new/255 #normalizing/ Scaling -\n",
    "\n",
    "from keras import utils\n",
    "\n",
    "target_new=utils.to_categorical(target_new)"
   ]
  },
  {
   "cell_type": "code",
   "execution_count": 26,
   "id": "0b22922a-cfee-4862-b4cc-1456902beb38",
   "metadata": {},
   "outputs": [],
   "source": [
    "np.save('data',data_new)\n",
    "np.save('target',target_new)"
   ]
  },
  {
   "cell_type": "code",
   "execution_count": null,
   "id": "ce07f66e-6871-4bf0-b93a-77edbdaa149f",
   "metadata": {},
   "outputs": [],
   "source": []
  }
 ],
 "metadata": {
  "kernelspec": {
   "display_name": "Python 3 (ipykernel)",
   "language": "python",
   "name": "python3"
  },
  "language_info": {
   "codemirror_mode": {
    "name": "ipython",
    "version": 3
   },
   "file_extension": ".py",
   "mimetype": "text/x-python",
   "name": "python",
   "nbconvert_exporter": "python",
   "pygments_lexer": "ipython3",
   "version": "3.12.6"
  }
 },
 "nbformat": 4,
 "nbformat_minor": 5
}
