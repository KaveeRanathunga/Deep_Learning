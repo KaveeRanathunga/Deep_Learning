{
 "cells": [
  {
   "cell_type": "code",
   "execution_count": 5,
   "id": "7d548f4e-387c-4607-ac36-724ade2b2fc9",
   "metadata": {},
   "outputs": [
    {
     "name": "stdout",
     "output_type": "stream",
     "text": [
      "['Cat', 'Dog']\n",
      "[0 1]\n",
      "{'Cat': 0, 'Dog': 1}\n"
     ]
    }
   ],
   "source": [
    "import os \n",
    "import numpy as np\n",
    "\n",
    "data_path=r'D:\\KAVEESHA\\DataScience\\Resourses\\kagglecatsanddogs_5340\\PetImages'\n",
    "categories=os.listdir(data_path)\n",
    "print(categories)\n",
    "\n",
    "\n",
    "labels=np.arange(len(categories))\n",
    "print(labels)\n",
    "\n",
    "label_dict=dict(zip(categories,labels))\n",
    "print(label_dict)\n",
    "\n"
   ]
  },
  {
   "cell_type": "code",
   "execution_count": null,
   "id": "38204b33-a3c8-4f83-abde-8a91176c1441",
   "metadata": {},
   "outputs": [],
   "source": [
    "import cv2\n",
    "\n",
    "img_size=50\n",
    "\n",
    "data=[]\n",
    "target=[]\n",
    "\n",
    "for category in categories:\n",
    "    \n",
    "    category_path=os.path.join(data_path,category)\n",
    "    #print(img_path)\n",
    "    img_names=os.listdir(category_path)\n",
    "    #print(img_names)\n",
    "    for img_name in img_names:\n",
    "        img_path=os.path.join(category_path,img_name)\n",
    "        #print(img_path)\n",
    "        try:\n",
    "            img=cv2.imread(img_path)\n",
    "            img=cv2.cvtColor(img,cv2.COLOR_BGR2GRAY)\n",
    "            img=cv2.resize(img,(img_size,img_size))\n",
    "\n",
    "            data.append(img)\n",
    "            target.append(label_dict[category])\n",
    "        except Exception as e:\n",
    "            print(img_path,e)"
   ]
  }
 ],
 "metadata": {
  "kernelspec": {
   "display_name": "Python 3 (ipykernel)",
   "language": "python",
   "name": "python3"
  },
  "language_info": {
   "codemirror_mode": {
    "name": "ipython",
    "version": 3
   },
   "file_extension": ".py",
   "mimetype": "text/x-python",
   "name": "python",
   "nbconvert_exporter": "python",
   "pygments_lexer": "ipython3",
   "version": "3.12.6"
  }
 },
 "nbformat": 4,
 "nbformat_minor": 5
}
