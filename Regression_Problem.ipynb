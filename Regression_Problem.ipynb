{
 "cells": [
  {
   "cell_type": "code",
   "execution_count": 1,
   "id": "f1208682-bac6-4314-85e3-9996b840ed23",
   "metadata": {},
   "outputs": [],
   "source": [
    "from matplotlib import pyplot as plt\n",
    "\n",
    "import pandas as pd\n",
    "import numpy as np"
   ]
  },
  {
   "cell_type": "code",
   "execution_count": 2,
   "id": "3c03d53d-1306-46e8-877d-1a407dd2dc2a",
   "metadata": {},
   "outputs": [
    {
     "data": {
      "text/html": [
       "<div>\n",
       "<style scoped>\n",
       "    .dataframe tbody tr th:only-of-type {\n",
       "        vertical-align: middle;\n",
       "    }\n",
       "\n",
       "    .dataframe tbody tr th {\n",
       "        vertical-align: top;\n",
       "    }\n",
       "\n",
       "    .dataframe thead th {\n",
       "        text-align: right;\n",
       "    }\n",
       "</style>\n",
       "<table border=\"1\" class=\"dataframe\">\n",
       "  <thead>\n",
       "    <tr style=\"text-align: right;\">\n",
       "      <th></th>\n",
       "      <th>SEX</th>\n",
       "      <th>AGEIR</th>\n",
       "      <th>TC</th>\n",
       "      <th>HDL</th>\n",
       "      <th>SMOKE_</th>\n",
       "      <th>BPMED</th>\n",
       "      <th>DIAB_01</th>\n",
       "      <th>RISK</th>\n",
       "    </tr>\n",
       "  </thead>\n",
       "  <tbody>\n",
       "    <tr>\n",
       "      <th>0</th>\n",
       "      <td>1</td>\n",
       "      <td>48</td>\n",
       "      <td>236</td>\n",
       "      <td>66</td>\n",
       "      <td>0</td>\n",
       "      <td>1</td>\n",
       "      <td>0</td>\n",
       "      <td>1.1</td>\n",
       "    </tr>\n",
       "    <tr>\n",
       "      <th>1</th>\n",
       "      <td>0</td>\n",
       "      <td>48</td>\n",
       "      <td>260</td>\n",
       "      <td>51</td>\n",
       "      <td>0</td>\n",
       "      <td>1</td>\n",
       "      <td>1</td>\n",
       "      <td>7.0</td>\n",
       "    </tr>\n",
       "    <tr>\n",
       "      <th>2</th>\n",
       "      <td>0</td>\n",
       "      <td>44</td>\n",
       "      <td>187</td>\n",
       "      <td>49</td>\n",
       "      <td>1</td>\n",
       "      <td>1</td>\n",
       "      <td>0</td>\n",
       "      <td>7.0</td>\n",
       "    </tr>\n",
       "    <tr>\n",
       "      <th>3</th>\n",
       "      <td>1</td>\n",
       "      <td>42</td>\n",
       "      <td>216</td>\n",
       "      <td>57</td>\n",
       "      <td>1</td>\n",
       "      <td>1</td>\n",
       "      <td>0</td>\n",
       "      <td>0.4</td>\n",
       "    </tr>\n",
       "    <tr>\n",
       "      <th>4</th>\n",
       "      <td>1</td>\n",
       "      <td>56</td>\n",
       "      <td>156</td>\n",
       "      <td>42</td>\n",
       "      <td>0</td>\n",
       "      <td>1</td>\n",
       "      <td>0</td>\n",
       "      <td>2.2</td>\n",
       "    </tr>\n",
       "    <tr>\n",
       "      <th>...</th>\n",
       "      <td>...</td>\n",
       "      <td>...</td>\n",
       "      <td>...</td>\n",
       "      <td>...</td>\n",
       "      <td>...</td>\n",
       "      <td>...</td>\n",
       "      <td>...</td>\n",
       "      <td>...</td>\n",
       "    </tr>\n",
       "    <tr>\n",
       "      <th>6639</th>\n",
       "      <td>1</td>\n",
       "      <td>65</td>\n",
       "      <td>307</td>\n",
       "      <td>42</td>\n",
       "      <td>1</td>\n",
       "      <td>0</td>\n",
       "      <td>1</td>\n",
       "      <td>36.6</td>\n",
       "    </tr>\n",
       "    <tr>\n",
       "      <th>6640</th>\n",
       "      <td>1</td>\n",
       "      <td>42</td>\n",
       "      <td>169</td>\n",
       "      <td>56</td>\n",
       "      <td>0</td>\n",
       "      <td>0</td>\n",
       "      <td>0</td>\n",
       "      <td>0.8</td>\n",
       "    </tr>\n",
       "    <tr>\n",
       "      <th>6641</th>\n",
       "      <td>0</td>\n",
       "      <td>65</td>\n",
       "      <td>212</td>\n",
       "      <td>35</td>\n",
       "      <td>1</td>\n",
       "      <td>0</td>\n",
       "      <td>0</td>\n",
       "      <td>30.6</td>\n",
       "    </tr>\n",
       "    <tr>\n",
       "      <th>6642</th>\n",
       "      <td>0</td>\n",
       "      <td>66</td>\n",
       "      <td>184</td>\n",
       "      <td>39</td>\n",
       "      <td>0</td>\n",
       "      <td>0</td>\n",
       "      <td>0</td>\n",
       "      <td>23.8</td>\n",
       "    </tr>\n",
       "    <tr>\n",
       "      <th>6643</th>\n",
       "      <td>1</td>\n",
       "      <td>45</td>\n",
       "      <td>203</td>\n",
       "      <td>51</td>\n",
       "      <td>0</td>\n",
       "      <td>1</td>\n",
       "      <td>0</td>\n",
       "      <td>1.0</td>\n",
       "    </tr>\n",
       "  </tbody>\n",
       "</table>\n",
       "<p>6644 rows × 8 columns</p>\n",
       "</div>"
      ],
      "text/plain": [
       "      SEX  AGEIR   TC  HDL  SMOKE_  BPMED  DIAB_01  RISK\n",
       "0       1     48  236   66       0      1        0   1.1\n",
       "1       0     48  260   51       0      1        1   7.0\n",
       "2       0     44  187   49       1      1        0   7.0\n",
       "3       1     42  216   57       1      1        0   0.4\n",
       "4       1     56  156   42       0      1        0   2.2\n",
       "...   ...    ...  ...  ...     ...    ...      ...   ...\n",
       "6639    1     65  307   42       1      0        1  36.6\n",
       "6640    1     42  169   56       0      0        0   0.8\n",
       "6641    0     65  212   35       1      0        0  30.6\n",
       "6642    0     66  184   39       0      0        0  23.8\n",
       "6643    1     45  203   51       0      1        0   1.0\n",
       "\n",
       "[6644 rows x 8 columns]"
      ]
     },
     "execution_count": 2,
     "metadata": {},
     "output_type": "execute_result"
    }
   ],
   "source": [
    "df=pd.read_csv('cardio_dataset.csv')\n",
    "df"
   ]
  },
  {
   "cell_type": "markdown",
   "id": "2291dfd6-a1cb-416c-b9de-56cdfe7b0de9",
   "metadata": {},
   "source": [
    "# Data and Target"
   ]
  },
  {
   "cell_type": "code",
   "execution_count": 3,
   "id": "d0c09133-f91e-42c9-a063-29ab780af5fc",
   "metadata": {},
   "outputs": [],
   "source": [
    "dataset = df.values\n",
    "data = dataset[:,0:7]\n",
    "target = dataset[:,7]\n",
    "\n"
   ]
  },
  {
   "cell_type": "code",
   "execution_count": 4,
   "id": "18f39340-07b5-42be-bb27-d9df835bdd91",
   "metadata": {},
   "outputs": [
    {
     "name": "stdout",
     "output_type": "stream",
     "text": [
      "[[  1.  48. 236. ...   0.   1.   0.]\n",
      " [  0.  48. 260. ...   0.   1.   1.]\n",
      " [  0.  44. 187. ...   1.   1.   0.]\n",
      " ...\n",
      " [  0.  65. 212. ...   1.   0.   0.]\n",
      " [  0.  66. 184. ...   0.   0.   0.]\n",
      " [  1.  45. 203. ...   0.   1.   0.]]\n"
     ]
    }
   ],
   "source": [
    "print(data)\n"
   ]
  },
  {
   "cell_type": "code",
   "execution_count": 5,
   "id": "96a7dcf2-d7c2-44a9-8103-1044465b98f4",
   "metadata": {},
   "outputs": [
    {
     "name": "stdout",
     "output_type": "stream",
     "text": [
      "[ 1.1  7.   7.  ... 30.6 23.8  1. ]\n"
     ]
    }
   ],
   "source": [
    "print(target)"
   ]
  },
  {
   "cell_type": "markdown",
   "id": "9fc03900-b426-4e8e-83bf-c1790cadda11",
   "metadata": {},
   "source": [
    "# Scaling\n",
    "####  In classification problems this should do for features only. But in Regression proplem this should do for both fetures and labels."
   ]
  },
  {
   "cell_type": "code",
   "execution_count": 6,
   "id": "9f9e14e3-15fd-44a7-9c38-4cb9254babaa",
   "metadata": {},
   "outputs": [],
   "source": [
    "from sklearn.preprocessing import MinMaxScaler\n",
    "\n",
    "target=np.reshape(target, (-1,1))\n",
    "\n",
    "scaler_data = MinMaxScaler()\n",
    "scaler_target = MinMaxScaler()\n",
    "\n",
    "#scaler_data.fit(data)\n",
    "#data_scaled=scaler_data.transform(data)\n",
    "\n",
    "#scaler_target.fit(target)\n",
    "\n",
    "data_scaled=scaler_data.fit_transform(data)\n",
    "target_scaled=scaler_target.fit_transform(target)\n",
    " "
   ]
  },
  {
   "cell_type": "code",
   "execution_count": 7,
   "id": "02d57bec-5665-4e55-84ac-2060ddb3e610",
   "metadata": {},
   "outputs": [
    {
     "name": "stdout",
     "output_type": "stream",
     "text": [
      "[[  1.  48. 236.  66.   0.   1.   0.]\n",
      " [  0.  48. 260.  51.   0.   1.   1.]\n",
      " [  0.  44. 187.  49.   1.   1.   0.]\n",
      " [  1.  42. 216.  57.   1.   1.   0.]\n",
      " [  1.  56. 156.  42.   0.   1.   0.]\n",
      " [  0.  44. 162.  57.   1.   1.   0.]\n",
      " [  0.  50. 244.  47.   0.   1.   0.]\n",
      " [  0.  48. 212.  30.   1.   1.   0.]\n",
      " [  1.  66. 202.  53.   0.   1.   1.]\n",
      " [  0.  63. 186.  46.   1.   1.   0.]]\n"
     ]
    }
   ],
   "source": [
    "print(data[:10])"
   ]
  },
  {
   "cell_type": "code",
   "execution_count": 8,
   "id": "d06302c5-860b-4899-8326-d7289043b8e0",
   "metadata": {},
   "outputs": [
    {
     "name": "stdout",
     "output_type": "stream",
     "text": [
      "[[1.         0.20512821 0.40045249 0.29347826 0.         1.\n",
      "  0.        ]\n",
      " [0.         0.20512821 0.45475113 0.21195652 0.         1.\n",
      "  1.        ]\n",
      " [0.         0.1025641  0.28959276 0.20108696 1.         1.\n",
      "  0.        ]\n",
      " [1.         0.05128205 0.35520362 0.24456522 1.         1.\n",
      "  0.        ]\n",
      " [1.         0.41025641 0.21945701 0.16304348 0.         1.\n",
      "  0.        ]\n",
      " [0.         0.1025641  0.23303167 0.24456522 1.         1.\n",
      "  0.        ]\n",
      " [0.         0.25641026 0.41855204 0.19021739 0.         1.\n",
      "  0.        ]\n",
      " [0.         0.20512821 0.34615385 0.09782609 1.         1.\n",
      "  0.        ]\n",
      " [1.         0.66666667 0.32352941 0.22282609 0.         1.\n",
      "  1.        ]\n",
      " [0.         0.58974359 0.28733032 0.18478261 1.         1.\n",
      "  0.        ]]\n"
     ]
    }
   ],
   "source": [
    "print(data_scaled[:10])"
   ]
  },
  {
   "cell_type": "code",
   "execution_count": 9,
   "id": "17c5c639-2b08-464c-881c-01354ea73d2a",
   "metadata": {},
   "outputs": [
    {
     "data": {
      "image/png": "[encoded data removed]",
      "text/plain": [
       "<Figure size 640x480 with 1 Axes>"
      ]
     },
     "metadata": {},
     "output_type": "display_data"
    }
   ],
   "source": [
    "plt.hist(data[:,2],bins=100)\n",
    "plt.title('Original TC')\n",
    "plt.xlabel('TC Level')\n",
    "plt.ylabel('Frequency')\n",
    "plt.show()"
   ]
  },
  {
   "cell_type": "code",
   "execution_count": 10,
   "id": "37bbd586-28d3-4b4a-9fdb-a8bc50c1922c",
   "metadata": {},
   "outputs": [
    {
     "data": {
      "image/png": "[encoded data removed]",
      "text/plain": [
       "<Figure size 640x480 with 1 Axes>"
      ]
     },
     "metadata": {},
     "output_type": "display_data"
    }
   ],
   "source": [
    "plt.hist(data_scaled[:,2],bins=100)\n",
    "plt.title('Scaled TC')\n",
    "plt.xlabel('TC Level')\n",
    "plt.ylabel('Frequency')\n",
    "plt.show()"
   ]
  },
  {
   "cell_type": "markdown",
   "id": "77f64848-f89c-4843-8807-fe351e07d0c8",
   "metadata": {},
   "source": [
    "## train_test_split\n",
    "\n",
    "#### This function splits your dataset into two parts:\n",
    "####          Training set: used to train (teach) the model.\n",
    "####          Test set: used to test how well the model performs on unseen data.\n",
    "\n"
   ]
  },
  {
   "cell_type": "code",
   "execution_count": 11,
   "id": "3cb6f4dc-ae2c-45e4-a544-3c3aa2487fe6",
   "metadata": {},
   "outputs": [],
   "source": [
    "from sklearn.model_selection import train_test_split\n",
    "\n",
    "train_data,test_data,train_target,test_target=train_test_split(data_scaled, target_scaled,test_size=0.1)  "
   ]
  },
  {
   "cell_type": "markdown",
   "id": "035ebe87-70ba-4714-81cd-492e43fa7889",
   "metadata": {},
   "source": [
    "# FFNN Architecture"
   ]
  },
  {
   "cell_type": "markdown",
   "id": "2ebe1e2d-225f-4ca3-b0f2-797fa706bb51",
   "metadata": {},
   "source": [
    "##### * Sequential means your model is a stack of layers, one after the other.\n",
    "##### * linear activation means: no transformation; it outputs raw values (good for regression)\n",
    "##### * ReLU → helps the network learn non-linear relationships.\n",
    "##### * Dropout is used to prevent overfitting by randomly turning off some neurons during training."
   ]
  },
  {
   "cell_type": "code",
   "execution_count": 18,
   "id": "be01965c-c9a8-4cc8-85ec-ade83ef4bf80",
   "metadata": {},
   "outputs": [
    {
     "data": {
      "text/html": [
       "<pre style=\"white-space:pre;overflow-x:auto;line-height:normal;font-family:Menlo,'DejaVu Sans Mono',consolas,'Courier New',monospace\"><span style=\"font-weight: bold\">Model: \"sequential_2\"</span>\n",
       "</pre>\n"
      ],
      "text/plain": [
       "\u001b[1mModel: \"sequential_2\"\u001b[0m\n"
      ]
     },
     "metadata": {},
     "output_type": "display_data"
    },
    {
     "data": {
      "text/html": [
       "<pre style=\"white-space:pre;overflow-x:auto;line-height:normal;font-family:Menlo,'DejaVu Sans Mono',consolas,'Courier New',monospace\">┏━━━━━━━━━━━━━━━━━━━━━━━━━━━━━━━━━━━━━━┳━━━━━━━━━━━━━━━━━━━━━━━━━━━━━┳━━━━━━━━━━━━━━━━━┓\n",
       "┃<span style=\"font-weight: bold\"> Layer (type)                         </span>┃<span style=\"font-weight: bold\"> Output Shape                </span>┃<span style=\"font-weight: bold\">         Param # </span>┃\n",
       "┡━━━━━━━━━━━━━━━━━━━━━━━━━━━━━━━━━━━━━━╇━━━━━━━━━━━━━━━━━━━━━━━━━━━━━╇━━━━━━━━━━━━━━━━━┩\n",
       "│ dense_8 (<span style=\"color: #0087ff; text-decoration-color: #0087ff\">Dense</span>)                      │ (<span style=\"color: #00d7ff; text-decoration-color: #00d7ff\">None</span>, <span style=\"color: #00af00; text-decoration-color: #00af00\">128</span>)                 │           <span style=\"color: #00af00; text-decoration-color: #00af00\">1,024</span> │\n",
       "├──────────────────────────────────────┼─────────────────────────────┼─────────────────┤\n",
       "│ dropout (<span style=\"color: #0087ff; text-decoration-color: #0087ff\">Dropout</span>)                    │ (<span style=\"color: #00d7ff; text-decoration-color: #00d7ff\">None</span>, <span style=\"color: #00af00; text-decoration-color: #00af00\">128</span>)                 │               <span style=\"color: #00af00; text-decoration-color: #00af00\">0</span> │\n",
       "├──────────────────────────────────────┼─────────────────────────────┼─────────────────┤\n",
       "│ dense_9 (<span style=\"color: #0087ff; text-decoration-color: #0087ff\">Dense</span>)                      │ (<span style=\"color: #00d7ff; text-decoration-color: #00d7ff\">None</span>, <span style=\"color: #00af00; text-decoration-color: #00af00\">64</span>)                  │           <span style=\"color: #00af00; text-decoration-color: #00af00\">8,256</span> │\n",
       "├──────────────────────────────────────┼─────────────────────────────┼─────────────────┤\n",
       "│ dropout_1 (<span style=\"color: #0087ff; text-decoration-color: #0087ff\">Dropout</span>)                  │ (<span style=\"color: #00d7ff; text-decoration-color: #00d7ff\">None</span>, <span style=\"color: #00af00; text-decoration-color: #00af00\">64</span>)                  │               <span style=\"color: #00af00; text-decoration-color: #00af00\">0</span> │\n",
       "├──────────────────────────────────────┼─────────────────────────────┼─────────────────┤\n",
       "│ dense_10 (<span style=\"color: #0087ff; text-decoration-color: #0087ff\">Dense</span>)                     │ (<span style=\"color: #00d7ff; text-decoration-color: #00d7ff\">None</span>, <span style=\"color: #00af00; text-decoration-color: #00af00\">10</span>)                  │             <span style=\"color: #00af00; text-decoration-color: #00af00\">650</span> │\n",
       "├──────────────────────────────────────┼─────────────────────────────┼─────────────────┤\n",
       "│ dropout_2 (<span style=\"color: #0087ff; text-decoration-color: #0087ff\">Dropout</span>)                  │ (<span style=\"color: #00d7ff; text-decoration-color: #00d7ff\">None</span>, <span style=\"color: #00af00; text-decoration-color: #00af00\">10</span>)                  │               <span style=\"color: #00af00; text-decoration-color: #00af00\">0</span> │\n",
       "├──────────────────────────────────────┼─────────────────────────────┼─────────────────┤\n",
       "│ dense_11 (<span style=\"color: #0087ff; text-decoration-color: #0087ff\">Dense</span>)                     │ (<span style=\"color: #00d7ff; text-decoration-color: #00d7ff\">None</span>, <span style=\"color: #00af00; text-decoration-color: #00af00\">1</span>)                   │              <span style=\"color: #00af00; text-decoration-color: #00af00\">11</span> │\n",
       "└──────────────────────────────────────┴─────────────────────────────┴─────────────────┘\n",
       "</pre>\n"
      ],
      "text/plain": [
       "┏━━━━━━━━━━━━━━━━━━━━━━━━━━━━━━━━━━━━━━┳━━━━━━━━━━━━━━━━━━━━━━━━━━━━━┳━━━━━━━━━━━━━━━━━┓\n",
       "┃\u001b[1m \u001b[0m\u001b[1mLayer (type)                        \u001b[0m\u001b[1m \u001b[0m┃\u001b[1m \u001b[0m\u001b[1mOutput Shape               \u001b[0m\u001b[1m \u001b[0m┃\u001b[1m \u001b[0m\u001b[1m        Param #\u001b[0m\u001b[1m \u001b[0m┃\n",
       "┡━━━━━━━━━━━━━━━━━━━━━━━━━━━━━━━━━━━━━━╇━━━━━━━━━━━━━━━━━━━━━━━━━━━━━╇━━━━━━━━━━━━━━━━━┩\n",
       "│ dense_8 (\u001b[38;5;33mDense\u001b[0m)                      │ (\u001b[38;5;45mNone\u001b[0m, \u001b[38;5;34m128\u001b[0m)                 │           \u001b[38;5;34m1,024\u001b[0m │\n",
       "├──────────────────────────────────────┼─────────────────────────────┼─────────────────┤\n",
       "│ dropout (\u001b[38;5;33mDropout\u001b[0m)                    │ (\u001b[38;5;45mNone\u001b[0m, \u001b[38;5;34m128\u001b[0m)                 │               \u001b[38;5;34m0\u001b[0m │\n",
       "├──────────────────────────────────────┼─────────────────────────────┼─────────────────┤\n",
       "│ dense_9 (\u001b[38;5;33mDense\u001b[0m)                      │ (\u001b[38;5;45mNone\u001b[0m, \u001b[38;5;34m64\u001b[0m)                  │           \u001b[38;5;34m8,256\u001b[0m │\n",
       "├──────────────────────────────────────┼─────────────────────────────┼─────────────────┤\n",
       "│ dropout_1 (\u001b[38;5;33mDropout\u001b[0m)                  │ (\u001b[38;5;45mNone\u001b[0m, \u001b[38;5;34m64\u001b[0m)                  │               \u001b[38;5;34m0\u001b[0m │\n",
       "├──────────────────────────────────────┼─────────────────────────────┼─────────────────┤\n",
       "│ dense_10 (\u001b[38;5;33mDense\u001b[0m)                     │ (\u001b[38;5;45mNone\u001b[0m, \u001b[38;5;34m10\u001b[0m)                  │             \u001b[38;5;34m650\u001b[0m │\n",
       "├──────────────────────────────────────┼─────────────────────────────┼─────────────────┤\n",
       "│ dropout_2 (\u001b[38;5;33mDropout\u001b[0m)                  │ (\u001b[38;5;45mNone\u001b[0m, \u001b[38;5;34m10\u001b[0m)                  │               \u001b[38;5;34m0\u001b[0m │\n",
       "├──────────────────────────────────────┼─────────────────────────────┼─────────────────┤\n",
       "│ dense_11 (\u001b[38;5;33mDense\u001b[0m)                     │ (\u001b[38;5;45mNone\u001b[0m, \u001b[38;5;34m1\u001b[0m)                   │              \u001b[38;5;34m11\u001b[0m │\n",
       "└──────────────────────────────────────┴─────────────────────────────┴─────────────────┘\n"
      ]
     },
     "metadata": {},
     "output_type": "display_data"
    },
    {
     "data": {
      "text/html": [
       "<pre style=\"white-space:pre;overflow-x:auto;line-height:normal;font-family:Menlo,'DejaVu Sans Mono',consolas,'Courier New',monospace\"><span style=\"font-weight: bold\"> Total params: </span><span style=\"color: #00af00; text-decoration-color: #00af00\">9,941</span> (38.83 KB)\n",
       "</pre>\n"
      ],
      "text/plain": [
       "\u001b[1m Total params: \u001b[0m\u001b[38;5;34m9,941\u001b[0m (38.83 KB)\n"
      ]
     },
     "metadata": {},
     "output_type": "display_data"
    },
    {
     "data": {
      "text/html": [
       "<pre style=\"white-space:pre;overflow-x:auto;line-height:normal;font-family:Menlo,'DejaVu Sans Mono',consolas,'Courier New',monospace\"><span style=\"font-weight: bold\"> Trainable params: </span><span style=\"color: #00af00; text-decoration-color: #00af00\">9,941</span> (38.83 KB)\n",
       "</pre>\n"
      ],
      "text/plain": [
       "\u001b[1m Trainable params: \u001b[0m\u001b[38;5;34m9,941\u001b[0m (38.83 KB)\n"
      ]
     },
     "metadata": {},
     "output_type": "display_data"
    },
    {
     "data": {
      "text/html": [
       "<pre style=\"white-space:pre;overflow-x:auto;line-height:normal;font-family:Menlo,'DejaVu Sans Mono',consolas,'Courier New',monospace\"><span style=\"font-weight: bold\"> Non-trainable params: </span><span style=\"color: #00af00; text-decoration-color: #00af00\">0</span> (0.00 B)\n",
       "</pre>\n"
      ],
      "text/plain": [
       "\u001b[1m Non-trainable params: \u001b[0m\u001b[38;5;34m0\u001b[0m (0.00 B)\n"
      ]
     },
     "metadata": {},
     "output_type": "display_data"
    }
   ],
   "source": [
    "from tensorflow.keras.models import Sequential\n",
    "from tensorflow.keras.layers import Dense, Input,Dropout\n",
    "import numpy as np\n",
    "\n",
    "model = Sequential() \n",
    "model.add(Dense(128, activation='relu', input_shape=(7,)))\n",
    "model.add(Dropout(0.5))\n",
    "model.add(Dense(64, activation='relu'))\n",
    "model.add(Dropout(0.5))\n",
    "model.add(Dense(10, activation='relu'))\n",
    "model.add(Dropout(0.5))\n",
    "model.add(Dense(1, activation='linear')) \n",
    "\n",
    "model.compile(optimizer='adam',loss='mse',metrics=['mae'])  # mean squared error and mean absolute error\n",
    "\n",
    "model.summary()"
   ]
  },
  {
   "cell_type": "code",
   "execution_count": 19,
   "id": "b4707a8d-1c4f-439b-a530-1610d61b3939",
   "metadata": {},
   "outputs": [
    {
     "name": "stdout",
     "output_type": "stream",
     "text": [
      "Epoch 1/200\n",
      "\u001b[1m187/187\u001b[0m \u001b[32m━━━━━━━━━━━━━━━━━━━━\u001b[0m\u001b[37m\u001b[0m \u001b[1m2s\u001b[0m 4ms/step - loss: 0.0440 - mae: 0.1434 - val_loss: 0.0224 - val_mae: 0.1011\n",
      "Epoch 2/200\n",
      "\u001b[1m187/187\u001b[0m \u001b[32m━━━━━━━━━━━━━━━━━━━━\u001b[0m\u001b[37m\u001b[0m \u001b[1m1s\u001b[0m 3ms/step - loss: 0.0172 - mae: 0.0943 - val_loss: 0.0159 - val_mae: 0.0877\n",
      "Epoch 3/200\n",
      "\u001b[1m187/187\u001b[0m \u001b[32m━━━━━━━━━━━━━━━━━━━━\u001b[0m\u001b[37m\u001b[0m \u001b[1m1s\u001b[0m 3ms/step - loss: 0.0137 - mae: 0.0869 - val_loss: 0.0129 - val_mae: 0.0798\n",
      "Epoch 4/200\n",
      "\u001b[1m187/187\u001b[0m \u001b[32m━━━━━━━━━━━━━━━━━━━━\u001b[0m\u001b[37m\u001b[0m \u001b[1m1s\u001b[0m 3ms/step - loss: 0.0129 - mae: 0.0801 - val_loss: 0.0122 - val_mae: 0.0751\n",
      "Epoch 5/200\n",
      "\u001b[1m187/187\u001b[0m \u001b[32m━━━━━━━━━━━━━━━━━━━━\u001b[0m\u001b[37m\u001b[0m \u001b[1m1s\u001b[0m 4ms/step - loss: 0.0114 - mae: 0.0737 - val_loss: 0.0101 - val_mae: 0.0679\n",
      "Epoch 6/200\n",
      "\u001b[1m187/187\u001b[0m \u001b[32m━━━━━━━━━━━━━━━━━━━━\u001b[0m\u001b[37m\u001b[0m \u001b[1m1s\u001b[0m 4ms/step - loss: 0.0122 - mae: 0.0756 - val_loss: 0.0104 - val_mae: 0.0693\n",
      "Epoch 7/200\n",
      "\u001b[1m187/187\u001b[0m \u001b[32m━━━━━━━━━━━━━━━━━━━━\u001b[0m\u001b[37m\u001b[0m \u001b[1m1s\u001b[0m 3ms/step - loss: 0.0109 - mae: 0.0718 - val_loss: 0.0087 - val_mae: 0.0644\n",
      "Epoch 8/200\n",
      "\u001b[1m187/187\u001b[0m \u001b[32m━━━━━━━━━━━━━━━━━━━━\u001b[0m\u001b[37m\u001b[0m \u001b[1m1s\u001b[0m 3ms/step - loss: 0.0093 - mae: 0.0671 - val_loss: 0.0084 - val_mae: 0.0643\n",
      "Epoch 9/200\n",
      "\u001b[1m187/187\u001b[0m \u001b[32m━━━━━━━━━━━━━━━━━━━━\u001b[0m\u001b[37m\u001b[0m \u001b[1m1s\u001b[0m 3ms/step - loss: 0.0103 - mae: 0.0692 - val_loss: 0.0077 - val_mae: 0.0605\n",
      "Epoch 10/200\n",
      "\u001b[1m187/187\u001b[0m \u001b[32m━━━━━━━━━━━━━━━━━━━━\u001b[0m\u001b[37m\u001b[0m \u001b[1m1s\u001b[0m 4ms/step - loss: 0.0097 - mae: 0.0664 - val_loss: 0.0084 - val_mae: 0.0610\n",
      "Epoch 11/200\n",
      "\u001b[1m187/187\u001b[0m \u001b[32m━━━━━━━━━━━━━━━━━━━━\u001b[0m\u001b[37m\u001b[0m \u001b[1m1s\u001b[0m 4ms/step - loss: 0.0096 - mae: 0.0668 - val_loss: 0.0073 - val_mae: 0.0607\n",
      "Epoch 12/200\n",
      "\u001b[1m187/187\u001b[0m \u001b[32m━━━━━━━━━━━━━━━━━━━━\u001b[0m\u001b[37m\u001b[0m \u001b[1m1s\u001b[0m 3ms/step - loss: 0.0093 - mae: 0.0652 - val_loss: 0.0064 - val_mae: 0.0556\n",
      "Epoch 13/200\n",
      "\u001b[1m187/187\u001b[0m \u001b[32m━━━━━━━━━━━━━━━━━━━━\u001b[0m\u001b[37m\u001b[0m \u001b[1m1s\u001b[0m 3ms/step - loss: 0.0089 - mae: 0.0654 - val_loss: 0.0071 - val_mae: 0.0551\n",
      "Epoch 14/200\n",
      "\u001b[1m187/187\u001b[0m \u001b[32m━━━━━━━━━━━━━━━━━━━━\u001b[0m\u001b[37m\u001b[0m \u001b[1m1s\u001b[0m 3ms/step - loss: 0.0091 - mae: 0.0640 - val_loss: 0.0050 - val_mae: 0.0486\n",
      "Epoch 15/200\n",
      "\u001b[1m187/187\u001b[0m \u001b[32m━━━━━━━━━━━━━━━━━━━━\u001b[0m\u001b[37m\u001b[0m \u001b[1m1s\u001b[0m 3ms/step - loss: 0.0081 - mae: 0.0614 - val_loss: 0.0070 - val_mae: 0.0556\n",
      "Epoch 16/200\n",
      "\u001b[1m187/187\u001b[0m \u001b[32m━━━━━━━━━━━━━━━━━━━━\u001b[0m\u001b[37m\u001b[0m \u001b[1m1s\u001b[0m 3ms/step - loss: 0.0083 - mae: 0.0622 - val_loss: 0.0057 - val_mae: 0.0528\n",
      "Epoch 17/200\n",
      "\u001b[1m187/187\u001b[0m \u001b[32m━━━━━━━━━━━━━━━━━━━━\u001b[0m\u001b[37m\u001b[0m \u001b[1m1s\u001b[0m 3ms/step - loss: 0.0084 - mae: 0.0621 - val_loss: 0.0066 - val_mae: 0.0529\n",
      "Epoch 18/200\n",
      "\u001b[1m187/187\u001b[0m \u001b[32m━━━━━━━━━━━━━━━━━━━━\u001b[0m\u001b[37m\u001b[0m \u001b[1m1s\u001b[0m 3ms/step - loss: 0.0085 - mae: 0.0620 - val_loss: 0.0056 - val_mae: 0.0510\n",
      "Epoch 19/200\n",
      "\u001b[1m187/187\u001b[0m \u001b[32m━━━━━━━━━━━━━━━━━━━━\u001b[0m\u001b[37m\u001b[0m \u001b[1m1s\u001b[0m 3ms/step - loss: 0.0079 - mae: 0.0599 - val_loss: 0.0057 - val_mae: 0.0521\n",
      "Epoch 20/200\n",
      "\u001b[1m187/187\u001b[0m \u001b[32m━━━━━━━━━━━━━━━━━━━━\u001b[0m\u001b[37m\u001b[0m \u001b[1m1s\u001b[0m 4ms/step - loss: 0.0079 - mae: 0.0605 - val_loss: 0.0065 - val_mae: 0.0544\n",
      "Epoch 21/200\n",
      "\u001b[1m187/187\u001b[0m \u001b[32m━━━━━━━━━━━━━━━━━━━━\u001b[0m\u001b[37m\u001b[0m \u001b[1m1s\u001b[0m 3ms/step - loss: 0.0080 - mae: 0.0614 - val_loss: 0.0058 - val_mae: 0.0523\n",
      "Epoch 22/200\n",
      "\u001b[1m187/187\u001b[0m \u001b[32m━━━━━━━━━━━━━━━━━━━━\u001b[0m\u001b[37m\u001b[0m \u001b[1m1s\u001b[0m 3ms/step - loss: 0.0084 - mae: 0.0618 - val_loss: 0.0068 - val_mae: 0.0557\n",
      "Epoch 23/200\n",
      "\u001b[1m187/187\u001b[0m \u001b[32m━━━━━━━━━━━━━━━━━━━━\u001b[0m\u001b[37m\u001b[0m \u001b[1m1s\u001b[0m 4ms/step - loss: 0.0085 - mae: 0.0624 - val_loss: 0.0055 - val_mae: 0.0504\n",
      "Epoch 24/200\n",
      "\u001b[1m187/187\u001b[0m \u001b[32m━━━━━━━━━━━━━━━━━━━━\u001b[0m\u001b[37m\u001b[0m \u001b[1m1s\u001b[0m 3ms/step - loss: 0.0077 - mae: 0.0599 - val_loss: 0.0056 - val_mae: 0.0515\n",
      "Epoch 25/200\n",
      "\u001b[1m187/187\u001b[0m \u001b[32m━━━━━━━━━━━━━━━━━━━━\u001b[0m\u001b[37m\u001b[0m \u001b[1m1s\u001b[0m 3ms/step - loss: 0.0081 - mae: 0.0613 - val_loss: 0.0061 - val_mae: 0.0523\n",
      "Epoch 26/200\n",
      "\u001b[1m187/187\u001b[0m \u001b[32m━━━━━━━━━━━━━━━━━━━━\u001b[0m\u001b[37m\u001b[0m \u001b[1m1s\u001b[0m 3ms/step - loss: 0.0083 - mae: 0.0618 - val_loss: 0.0054 - val_mae: 0.0509\n",
      "Epoch 27/200\n",
      "\u001b[1m187/187\u001b[0m \u001b[32m━━━━━━━━━━━━━━━━━━━━\u001b[0m\u001b[37m\u001b[0m \u001b[1m1s\u001b[0m 3ms/step - loss: 0.0082 - mae: 0.0603 - val_loss: 0.0050 - val_mae: 0.0509\n",
      "Epoch 28/200\n",
      "\u001b[1m187/187\u001b[0m \u001b[32m━━━━━━━━━━━━━━━━━━━━\u001b[0m\u001b[37m\u001b[0m \u001b[1m1s\u001b[0m 3ms/step - loss: 0.0078 - mae: 0.0599 - val_loss: 0.0053 - val_mae: 0.0496\n",
      "Epoch 29/200\n",
      "\u001b[1m187/187\u001b[0m \u001b[32m━━━━━━━━━━━━━━━━━━━━\u001b[0m\u001b[37m\u001b[0m \u001b[1m1s\u001b[0m 4ms/step - loss: 0.0082 - mae: 0.0608 - val_loss: 0.0051 - val_mae: 0.0540\n",
      "Epoch 30/200\n",
      "\u001b[1m187/187\u001b[0m \u001b[32m━━━━━━━━━━━━━━━━━━━━\u001b[0m\u001b[37m\u001b[0m \u001b[1m1s\u001b[0m 4ms/step - loss: 0.0076 - mae: 0.0596 - val_loss: 0.0047 - val_mae: 0.0482\n",
      "Epoch 31/200\n",
      "\u001b[1m187/187\u001b[0m \u001b[32m━━━━━━━━━━━━━━━━━━━━\u001b[0m\u001b[37m\u001b[0m \u001b[1m1s\u001b[0m 3ms/step - loss: 0.0081 - mae: 0.0600 - val_loss: 0.0053 - val_mae: 0.0529\n",
      "Epoch 32/200\n",
      "\u001b[1m187/187\u001b[0m \u001b[32m━━━━━━━━━━━━━━━━━━━━\u001b[0m\u001b[37m\u001b[0m \u001b[1m1s\u001b[0m 3ms/step - loss: 0.0082 - mae: 0.0614 - val_loss: 0.0052 - val_mae: 0.0499\n",
      "Epoch 33/200\n",
      "\u001b[1m187/187\u001b[0m \u001b[32m━━━━━━━━━━━━━━━━━━━━\u001b[0m\u001b[37m\u001b[0m \u001b[1m1s\u001b[0m 4ms/step - loss: 0.0076 - mae: 0.0586 - val_loss: 0.0046 - val_mae: 0.0493\n",
      "Epoch 34/200\n",
      "\u001b[1m187/187\u001b[0m \u001b[32m━━━━━━━━━━━━━━━━━━━━\u001b[0m\u001b[37m\u001b[0m \u001b[1m1s\u001b[0m 3ms/step - loss: 0.0074 - mae: 0.0577 - val_loss: 0.0049 - val_mae: 0.0516\n",
      "Epoch 35/200\n",
      "\u001b[1m187/187\u001b[0m \u001b[32m━━━━━━━━━━━━━━━━━━━━\u001b[0m\u001b[37m\u001b[0m \u001b[1m1s\u001b[0m 4ms/step - loss: 0.0079 - mae: 0.0614 - val_loss: 0.0047 - val_mae: 0.0488\n",
      "Epoch 36/200\n",
      "\u001b[1m187/187\u001b[0m \u001b[32m━━━━━━━━━━━━━━━━━━━━\u001b[0m\u001b[37m\u001b[0m \u001b[1m1s\u001b[0m 3ms/step - loss: 0.0075 - mae: 0.0589 - val_loss: 0.0052 - val_mae: 0.0500\n",
      "Epoch 37/200\n",
      "\u001b[1m187/187\u001b[0m \u001b[32m━━━━━━━━━━━━━━━━━━━━\u001b[0m\u001b[37m\u001b[0m \u001b[1m1s\u001b[0m 4ms/step - loss: 0.0080 - mae: 0.0599 - val_loss: 0.0056 - val_mae: 0.0522\n",
      "Epoch 38/200\n",
      "\u001b[1m187/187\u001b[0m \u001b[32m━━━━━━━━━━━━━━━━━━━━\u001b[0m\u001b[37m\u001b[0m \u001b[1m1s\u001b[0m 3ms/step - loss: 0.0075 - mae: 0.0595 - val_loss: 0.0052 - val_mae: 0.0504\n",
      "Epoch 39/200\n",
      "\u001b[1m187/187\u001b[0m \u001b[32m━━━━━━━━━━━━━━━━━━━━\u001b[0m\u001b[37m\u001b[0m \u001b[1m1s\u001b[0m 4ms/step - loss: 0.0076 - mae: 0.0585 - val_loss: 0.0056 - val_mae: 0.0529\n",
      "Epoch 40/200\n",
      "\u001b[1m187/187\u001b[0m \u001b[32m━━━━━━━━━━━━━━━━━━━━\u001b[0m\u001b[37m\u001b[0m \u001b[1m1s\u001b[0m 3ms/step - loss: 0.0075 - mae: 0.0581 - val_loss: 0.0067 - val_mae: 0.0575\n",
      "Epoch 41/200\n",
      "\u001b[1m187/187\u001b[0m \u001b[32m━━━━━━━━━━━━━━━━━━━━\u001b[0m\u001b[37m\u001b[0m \u001b[1m1s\u001b[0m 3ms/step - loss: 0.0083 - mae: 0.0599 - val_loss: 0.0049 - val_mae: 0.0492\n",
      "Epoch 42/200\n",
      "\u001b[1m187/187\u001b[0m \u001b[32m━━━━━━━━━━━━━━━━━━━━\u001b[0m\u001b[37m\u001b[0m \u001b[1m1s\u001b[0m 3ms/step - loss: 0.0065 - mae: 0.0552 - val_loss: 0.0053 - val_mae: 0.0507\n",
      "Epoch 43/200\n",
      "\u001b[1m187/187\u001b[0m \u001b[32m━━━━━━━━━━━━━━━━━━━━\u001b[0m\u001b[37m\u001b[0m \u001b[1m1s\u001b[0m 3ms/step - loss: 0.0073 - mae: 0.0582 - val_loss: 0.0060 - val_mae: 0.0532\n",
      "Epoch 44/200\n",
      "\u001b[1m187/187\u001b[0m \u001b[32m━━━━━━━━━━━━━━━━━━━━\u001b[0m\u001b[37m\u001b[0m \u001b[1m1s\u001b[0m 3ms/step - loss: 0.0073 - mae: 0.0581 - val_loss: 0.0058 - val_mae: 0.0523\n",
      "Epoch 45/200\n",
      "\u001b[1m187/187\u001b[0m \u001b[32m━━━━━━━━━━━━━━━━━━━━\u001b[0m\u001b[37m\u001b[0m \u001b[1m1s\u001b[0m 3ms/step - loss: 0.0073 - mae: 0.0579 - val_loss: 0.0052 - val_mae: 0.0508\n",
      "Epoch 46/200\n",
      "\u001b[1m187/187\u001b[0m \u001b[32m━━━━━━━━━━━━━━━━━━━━\u001b[0m\u001b[37m\u001b[0m \u001b[1m1s\u001b[0m 4ms/step - loss: 0.0072 - mae: 0.0575 - val_loss: 0.0064 - val_mae: 0.0539\n",
      "Epoch 47/200\n",
      "\u001b[1m187/187\u001b[0m \u001b[32m━━━━━━━━━━━━━━━━━━━━\u001b[0m\u001b[37m\u001b[0m \u001b[1m1s\u001b[0m 3ms/step - loss: 0.0070 - mae: 0.0574 - val_loss: 0.0049 - val_mae: 0.0496\n",
      "Epoch 48/200\n",
      "\u001b[1m187/187\u001b[0m \u001b[32m━━━━━━━━━━━━━━━━━━━━\u001b[0m\u001b[37m\u001b[0m \u001b[1m1s\u001b[0m 3ms/step - loss: 0.0079 - mae: 0.0597 - val_loss: 0.0047 - val_mae: 0.0507\n",
      "Epoch 49/200\n",
      "\u001b[1m187/187\u001b[0m \u001b[32m━━━━━━━━━━━━━━━━━━━━\u001b[0m\u001b[37m\u001b[0m \u001b[1m1s\u001b[0m 3ms/step - loss: 0.0077 - mae: 0.0590 - val_loss: 0.0058 - val_mae: 0.0529\n",
      "Epoch 50/200\n",
      "\u001b[1m187/187\u001b[0m \u001b[32m━━━━━━━━━━━━━━━━━━━━\u001b[0m\u001b[37m\u001b[0m \u001b[1m1s\u001b[0m 3ms/step - loss: 0.0081 - mae: 0.0602 - val_loss: 0.0045 - val_mae: 0.0498\n",
      "Epoch 51/200\n",
      "\u001b[1m187/187\u001b[0m \u001b[32m━━━━━━━━━━━━━━━━━━━━\u001b[0m\u001b[37m\u001b[0m \u001b[1m1s\u001b[0m 3ms/step - loss: 0.0078 - mae: 0.0590 - val_loss: 0.0045 - val_mae: 0.0483\n",
      "Epoch 52/200\n",
      "\u001b[1m187/187\u001b[0m \u001b[32m━━━━━━━━━━━━━━━━━━━━\u001b[0m\u001b[37m\u001b[0m \u001b[1m1s\u001b[0m 4ms/step - loss: 0.0079 - mae: 0.0592 - val_loss: 0.0056 - val_mae: 0.0509\n",
      "Epoch 53/200\n",
      "\u001b[1m187/187\u001b[0m \u001b[32m━━━━━━━━━━━━━━━━━━━━\u001b[0m\u001b[37m\u001b[0m \u001b[1m1s\u001b[0m 3ms/step - loss: 0.0075 - mae: 0.0583 - val_loss: 0.0047 - val_mae: 0.0496\n",
      "Epoch 54/200\n",
      "\u001b[1m187/187\u001b[0m \u001b[32m━━━━━━━━━━━━━━━━━━━━\u001b[0m\u001b[37m\u001b[0m \u001b[1m1s\u001b[0m 3ms/step - loss: 0.0069 - mae: 0.0573 - val_loss: 0.0059 - val_mae: 0.0543\n",
      "Epoch 55/200\n",
      "\u001b[1m187/187\u001b[0m \u001b[32m━━━━━━━━━━━━━━━━━━━━\u001b[0m\u001b[37m\u001b[0m \u001b[1m1s\u001b[0m 3ms/step - loss: 0.0069 - mae: 0.0573 - val_loss: 0.0057 - val_mae: 0.0543\n",
      "Epoch 56/200\n",
      "\u001b[1m187/187\u001b[0m \u001b[32m━━━━━━━━━━━━━━━━━━━━\u001b[0m\u001b[37m\u001b[0m \u001b[1m1s\u001b[0m 3ms/step - loss: 0.0071 - mae: 0.0579 - val_loss: 0.0049 - val_mae: 0.0507\n",
      "Epoch 57/200\n",
      "\u001b[1m187/187\u001b[0m \u001b[32m━━━━━━━━━━━━━━━━━━━━\u001b[0m\u001b[37m\u001b[0m \u001b[1m1s\u001b[0m 3ms/step - loss: 0.0078 - mae: 0.0589 - val_loss: 0.0050 - val_mae: 0.0524\n",
      "Epoch 58/200\n",
      "\u001b[1m187/187\u001b[0m \u001b[32m━━━━━━━━━━━━━━━━━━━━\u001b[0m\u001b[37m\u001b[0m \u001b[1m1s\u001b[0m 4ms/step - loss: 0.0072 - mae: 0.0571 - val_loss: 0.0053 - val_mae: 0.0524\n",
      "Epoch 59/200\n",
      "\u001b[1m187/187\u001b[0m \u001b[32m━━━━━━━━━━━━━━━━━━━━\u001b[0m\u001b[37m\u001b[0m \u001b[1m1s\u001b[0m 3ms/step - loss: 0.0071 - mae: 0.0569 - val_loss: 0.0061 - val_mae: 0.0556\n",
      "Epoch 60/200\n",
      "\u001b[1m187/187\u001b[0m \u001b[32m━━━━━━━━━━━━━━━━━━━━\u001b[0m\u001b[37m\u001b[0m \u001b[1m1s\u001b[0m 3ms/step - loss: 0.0065 - mae: 0.0551 - val_loss: 0.0052 - val_mae: 0.0504\n",
      "Epoch 61/200\n",
      "\u001b[1m187/187\u001b[0m \u001b[32m━━━━━━━━━━━━━━━━━━━━\u001b[0m\u001b[37m\u001b[0m \u001b[1m1s\u001b[0m 3ms/step - loss: 0.0064 - mae: 0.0548 - val_loss: 0.0044 - val_mae: 0.0479\n",
      "Epoch 62/200\n",
      "\u001b[1m187/187\u001b[0m \u001b[32m━━━━━━━━━━━━━━━━━━━━\u001b[0m\u001b[37m\u001b[0m \u001b[1m1s\u001b[0m 3ms/step - loss: 0.0070 - mae: 0.0562 - val_loss: 0.0044 - val_mae: 0.0481\n",
      "Epoch 63/200\n",
      "\u001b[1m187/187\u001b[0m \u001b[32m━━━━━━━━━━━━━━━━━━━━\u001b[0m\u001b[37m\u001b[0m \u001b[1m1s\u001b[0m 3ms/step - loss: 0.0077 - mae: 0.0591 - val_loss: 0.0051 - val_mae: 0.0506\n",
      "Epoch 64/200\n",
      "\u001b[1m187/187\u001b[0m \u001b[32m━━━━━━━━━━━━━━━━━━━━\u001b[0m\u001b[37m\u001b[0m \u001b[1m1s\u001b[0m 4ms/step - loss: 0.0067 - mae: 0.0569 - val_loss: 0.0044 - val_mae: 0.0488\n",
      "Epoch 65/200\n",
      "\u001b[1m187/187\u001b[0m \u001b[32m━━━━━━━━━━━━━━━━━━━━\u001b[0m\u001b[37m\u001b[0m \u001b[1m1s\u001b[0m 3ms/step - loss: 0.0070 - mae: 0.0578 - val_loss: 0.0048 - val_mae: 0.0473\n",
      "Epoch 66/200\n",
      "\u001b[1m187/187\u001b[0m \u001b[32m━━━━━━━━━━━━━━━━━━━━\u001b[0m\u001b[37m\u001b[0m \u001b[1m1s\u001b[0m 3ms/step - loss: 0.0075 - mae: 0.0585 - val_loss: 0.0068 - val_mae: 0.0586\n",
      "Epoch 67/200\n",
      "\u001b[1m187/187\u001b[0m \u001b[32m━━━━━━━━━━━━━━━━━━━━\u001b[0m\u001b[37m\u001b[0m \u001b[1m1s\u001b[0m 4ms/step - loss: 0.0075 - mae: 0.0598 - val_loss: 0.0049 - val_mae: 0.0509\n",
      "Epoch 68/200\n",
      "\u001b[1m187/187\u001b[0m \u001b[32m━━━━━━━━━━━━━━━━━━━━\u001b[0m\u001b[37m\u001b[0m \u001b[1m1s\u001b[0m 4ms/step - loss: 0.0071 - mae: 0.0575 - val_loss: 0.0045 - val_mae: 0.0476\n",
      "Epoch 69/200\n",
      "\u001b[1m187/187\u001b[0m \u001b[32m━━━━━━━━━━━━━━━━━━━━\u001b[0m\u001b[37m\u001b[0m \u001b[1m1s\u001b[0m 4ms/step - loss: 0.0072 - mae: 0.0582 - val_loss: 0.0062 - val_mae: 0.0552\n",
      "Epoch 70/200\n",
      "\u001b[1m187/187\u001b[0m \u001b[32m━━━━━━━━━━━━━━━━━━━━\u001b[0m\u001b[37m\u001b[0m \u001b[1m1s\u001b[0m 4ms/step - loss: 0.0072 - mae: 0.0577 - val_loss: 0.0046 - val_mae: 0.0497\n",
      "Epoch 71/200\n",
      "\u001b[1m187/187\u001b[0m \u001b[32m━━━━━━━━━━━━━━━━━━━━\u001b[0m\u001b[37m\u001b[0m \u001b[1m1s\u001b[0m 4ms/step - loss: 0.0069 - mae: 0.0566 - val_loss: 0.0054 - val_mae: 0.0529\n",
      "Epoch 72/200\n",
      "\u001b[1m187/187\u001b[0m \u001b[32m━━━━━━━━━━━━━━━━━━━━\u001b[0m\u001b[37m\u001b[0m \u001b[1m1s\u001b[0m 4ms/step - loss: 0.0066 - mae: 0.0562 - val_loss: 0.0052 - val_mae: 0.0499\n",
      "Epoch 73/200\n",
      "\u001b[1m187/187\u001b[0m \u001b[32m━━━━━━━━━━━━━━━━━━━━\u001b[0m\u001b[37m\u001b[0m \u001b[1m1s\u001b[0m 3ms/step - loss: 0.0075 - mae: 0.0572 - val_loss: 0.0053 - val_mae: 0.0494\n",
      "Epoch 74/200\n",
      "\u001b[1m187/187\u001b[0m \u001b[32m━━━━━━━━━━━━━━━━━━━━\u001b[0m\u001b[37m\u001b[0m \u001b[1m1s\u001b[0m 3ms/step - loss: 0.0070 - mae: 0.0568 - val_loss: 0.0047 - val_mae: 0.0476\n",
      "Epoch 75/200\n",
      "\u001b[1m187/187\u001b[0m \u001b[32m━━━━━━━━━━━━━━━━━━━━\u001b[0m\u001b[37m\u001b[0m \u001b[1m1s\u001b[0m 3ms/step - loss: 0.0078 - mae: 0.0587 - val_loss: 0.0038 - val_mae: 0.0460\n",
      "Epoch 76/200\n",
      "\u001b[1m187/187\u001b[0m \u001b[32m━━━━━━━━━━━━━━━━━━━━\u001b[0m\u001b[37m\u001b[0m \u001b[1m1s\u001b[0m 4ms/step - loss: 0.0070 - mae: 0.0573 - val_loss: 0.0045 - val_mae: 0.0496\n",
      "Epoch 77/200\n",
      "\u001b[1m187/187\u001b[0m \u001b[32m━━━━━━━━━━━━━━━━━━━━\u001b[0m\u001b[37m\u001b[0m \u001b[1m1s\u001b[0m 3ms/step - loss: 0.0073 - mae: 0.0576 - val_loss: 0.0048 - val_mae: 0.0482\n",
      "Epoch 78/200\n",
      "\u001b[1m187/187\u001b[0m \u001b[32m━━━━━━━━━━━━━━━━━━━━\u001b[0m\u001b[37m\u001b[0m \u001b[1m1s\u001b[0m 3ms/step - loss: 0.0070 - mae: 0.0558 - val_loss: 0.0055 - val_mae: 0.0520\n",
      "Epoch 79/200\n",
      "\u001b[1m187/187\u001b[0m \u001b[32m━━━━━━━━━━━━━━━━━━━━\u001b[0m\u001b[37m\u001b[0m \u001b[1m1s\u001b[0m 3ms/step - loss: 0.0072 - mae: 0.0578 - val_loss: 0.0049 - val_mae: 0.0506\n",
      "Epoch 80/200\n",
      "\u001b[1m187/187\u001b[0m \u001b[32m━━━━━━━━━━━━━━━━━━━━\u001b[0m\u001b[37m\u001b[0m \u001b[1m1s\u001b[0m 3ms/step - loss: 0.0071 - mae: 0.0569 - val_loss: 0.0050 - val_mae: 0.0501\n",
      "Epoch 81/200\n",
      "\u001b[1m187/187\u001b[0m \u001b[32m━━━━━━━━━━━━━━━━━━━━\u001b[0m\u001b[37m\u001b[0m \u001b[1m1s\u001b[0m 4ms/step - loss: 0.0077 - mae: 0.0590 - val_loss: 0.0045 - val_mae: 0.0509\n",
      "Epoch 82/200\n",
      "\u001b[1m187/187\u001b[0m \u001b[32m━━━━━━━━━━━━━━━━━━━━\u001b[0m\u001b[37m\u001b[0m \u001b[1m1s\u001b[0m 3ms/step - loss: 0.0075 - mae: 0.0577 - val_loss: 0.0048 - val_mae: 0.0486\n",
      "Epoch 83/200\n",
      "\u001b[1m187/187\u001b[0m \u001b[32m━━━━━━━━━━━━━━━━━━━━\u001b[0m\u001b[37m\u001b[0m \u001b[1m1s\u001b[0m 3ms/step - loss: 0.0067 - mae: 0.0553 - val_loss: 0.0045 - val_mae: 0.0488\n",
      "Epoch 84/200\n",
      "\u001b[1m187/187\u001b[0m \u001b[32m━━━━━━━━━━━━━━━━━━━━\u001b[0m\u001b[37m\u001b[0m \u001b[1m1s\u001b[0m 3ms/step - loss: 0.0071 - mae: 0.0565 - val_loss: 0.0047 - val_mae: 0.0494\n",
      "Epoch 85/200\n",
      "\u001b[1m187/187\u001b[0m \u001b[32m━━━━━━━━━━━━━━━━━━━━\u001b[0m\u001b[37m\u001b[0m \u001b[1m1s\u001b[0m 4ms/step - loss: 0.0067 - mae: 0.0560 - val_loss: 0.0046 - val_mae: 0.0476\n",
      "Epoch 86/200\n",
      "\u001b[1m187/187\u001b[0m \u001b[32m━━━━━━━━━━━━━━━━━━━━\u001b[0m\u001b[37m\u001b[0m \u001b[1m1s\u001b[0m 3ms/step - loss: 0.0069 - mae: 0.0558 - val_loss: 0.0058 - val_mae: 0.0512\n",
      "Epoch 87/200\n",
      "\u001b[1m187/187\u001b[0m \u001b[32m━━━━━━━━━━━━━━━━━━━━\u001b[0m\u001b[37m\u001b[0m \u001b[1m1s\u001b[0m 3ms/step - loss: 0.0070 - mae: 0.0572 - val_loss: 0.0047 - val_mae: 0.0497\n",
      "Epoch 88/200\n",
      "\u001b[1m187/187\u001b[0m \u001b[32m━━━━━━━━━━━━━━━━━━━━\u001b[0m\u001b[37m\u001b[0m \u001b[1m1s\u001b[0m 4ms/step - loss: 0.0069 - mae: 0.0554 - val_loss: 0.0049 - val_mae: 0.0521\n",
      "Epoch 89/200\n",
      "\u001b[1m187/187\u001b[0m \u001b[32m━━━━━━━━━━━━━━━━━━━━\u001b[0m\u001b[37m\u001b[0m \u001b[1m1s\u001b[0m 4ms/step - loss: 0.0065 - mae: 0.0567 - val_loss: 0.0051 - val_mae: 0.0512\n",
      "Epoch 90/200\n",
      "\u001b[1m187/187\u001b[0m \u001b[32m━━━━━━━━━━━━━━━━━━━━\u001b[0m\u001b[37m\u001b[0m \u001b[1m1s\u001b[0m 3ms/step - loss: 0.0069 - mae: 0.0559 - val_loss: 0.0050 - val_mae: 0.0487\n",
      "Epoch 91/200\n",
      "\u001b[1m187/187\u001b[0m \u001b[32m━━━━━━━━━━━━━━━━━━━━\u001b[0m\u001b[37m\u001b[0m \u001b[1m1s\u001b[0m 3ms/step - loss: 0.0071 - mae: 0.0567 - val_loss: 0.0042 - val_mae: 0.0471\n",
      "Epoch 92/200\n",
      "\u001b[1m187/187\u001b[0m \u001b[32m━━━━━━━━━━━━━━━━━━━━\u001b[0m\u001b[37m\u001b[0m \u001b[1m1s\u001b[0m 4ms/step - loss: 0.0076 - mae: 0.0577 - val_loss: 0.0046 - val_mae: 0.0475\n",
      "Epoch 93/200\n",
      "\u001b[1m187/187\u001b[0m \u001b[32m━━━━━━━━━━━━━━━━━━━━\u001b[0m\u001b[37m\u001b[0m \u001b[1m1s\u001b[0m 3ms/step - loss: 0.0072 - mae: 0.0565 - val_loss: 0.0053 - val_mae: 0.0504\n",
      "Epoch 94/200\n",
      "\u001b[1m187/187\u001b[0m \u001b[32m━━━━━━━━━━━━━━━━━━━━\u001b[0m\u001b[37m\u001b[0m \u001b[1m1s\u001b[0m 3ms/step - loss: 0.0068 - mae: 0.0551 - val_loss: 0.0054 - val_mae: 0.0496\n",
      "Epoch 95/200\n",
      "\u001b[1m187/187\u001b[0m \u001b[32m━━━━━━━━━━━━━━━━━━━━\u001b[0m\u001b[37m\u001b[0m \u001b[1m1s\u001b[0m 3ms/step - loss: 0.0070 - mae: 0.0573 - val_loss: 0.0045 - val_mae: 0.0493\n",
      "Epoch 96/200\n",
      "\u001b[1m187/187\u001b[0m \u001b[32m━━━━━━━━━━━━━━━━━━━━\u001b[0m\u001b[37m\u001b[0m \u001b[1m1s\u001b[0m 4ms/step - loss: 0.0074 - mae: 0.0585 - val_loss: 0.0046 - val_mae: 0.0458\n",
      "Epoch 97/200\n",
      "\u001b[1m187/187\u001b[0m \u001b[32m━━━━━━━━━━━━━━━━━━━━\u001b[0m\u001b[37m\u001b[0m \u001b[1m1s\u001b[0m 3ms/step - loss: 0.0072 - mae: 0.0574 - val_loss: 0.0044 - val_mae: 0.0480\n",
      "Epoch 98/200\n",
      "\u001b[1m187/187\u001b[0m \u001b[32m━━━━━━━━━━━━━━━━━━━━\u001b[0m\u001b[37m\u001b[0m \u001b[1m1s\u001b[0m 3ms/step - loss: 0.0068 - mae: 0.0560 - val_loss: 0.0047 - val_mae: 0.0475\n",
      "Epoch 99/200\n",
      "\u001b[1m187/187\u001b[0m \u001b[32m━━━━━━━━━━━━━━━━━━━━\u001b[0m\u001b[37m\u001b[0m \u001b[1m1s\u001b[0m 4ms/step - loss: 0.0066 - mae: 0.0554 - val_loss: 0.0047 - val_mae: 0.0477\n",
      "Epoch 100/200\n",
      "\u001b[1m187/187\u001b[0m \u001b[32m━━━━━━━━━━━━━━━━━━━━\u001b[0m\u001b[37m\u001b[0m \u001b[1m1s\u001b[0m 4ms/step - loss: 0.0069 - mae: 0.0562 - val_loss: 0.0047 - val_mae: 0.0466\n",
      "Epoch 101/200\n",
      "\u001b[1m187/187\u001b[0m \u001b[32m━━━━━━━━━━━━━━━━━━━━\u001b[0m\u001b[37m\u001b[0m \u001b[1m1s\u001b[0m 4ms/step - loss: 0.0064 - mae: 0.0541 - val_loss: 0.0047 - val_mae: 0.0490\n",
      "Epoch 102/200\n",
      "\u001b[1m187/187\u001b[0m \u001b[32m━━━━━━━━━━━━━━━━━━━━\u001b[0m\u001b[37m\u001b[0m \u001b[1m1s\u001b[0m 4ms/step - loss: 0.0074 - mae: 0.0579 - val_loss: 0.0042 - val_mae: 0.0467\n",
      "Epoch 103/200\n",
      "\u001b[1m187/187\u001b[0m \u001b[32m━━━━━━━━━━━━━━━━━━━━\u001b[0m\u001b[37m\u001b[0m \u001b[1m1s\u001b[0m 5ms/step - loss: 0.0074 - mae: 0.0572 - val_loss: 0.0043 - val_mae: 0.0461\n",
      "Epoch 104/200\n",
      "\u001b[1m187/187\u001b[0m \u001b[32m━━━━━━━━━━━━━━━━━━━━\u001b[0m\u001b[37m\u001b[0m \u001b[1m1s\u001b[0m 4ms/step - loss: 0.0066 - mae: 0.0547 - val_loss: 0.0047 - val_mae: 0.0502\n",
      "Epoch 105/200\n",
      "\u001b[1m187/187\u001b[0m \u001b[32m━━━━━━━━━━━━━━━━━━━━\u001b[0m\u001b[37m\u001b[0m \u001b[1m1s\u001b[0m 4ms/step - loss: 0.0069 - mae: 0.0562 - val_loss: 0.0042 - val_mae: 0.0464\n",
      "Epoch 106/200\n",
      "\u001b[1m187/187\u001b[0m \u001b[32m━━━━━━━━━━━━━━━━━━━━\u001b[0m\u001b[37m\u001b[0m \u001b[1m1s\u001b[0m 3ms/step - loss: 0.0074 - mae: 0.0575 - val_loss: 0.0047 - val_mae: 0.0495\n",
      "Epoch 107/200\n",
      "\u001b[1m187/187\u001b[0m \u001b[32m━━━━━━━━━━━━━━━━━━━━\u001b[0m\u001b[37m\u001b[0m \u001b[1m1s\u001b[0m 3ms/step - loss: 0.0073 - mae: 0.0578 - val_loss: 0.0045 - val_mae: 0.0476\n",
      "Epoch 108/200\n",
      "\u001b[1m187/187\u001b[0m \u001b[32m━━━━━━━━━━━━━━━━━━━━\u001b[0m\u001b[37m\u001b[0m \u001b[1m1s\u001b[0m 4ms/step - loss: 0.0065 - mae: 0.0554 - val_loss: 0.0048 - val_mae: 0.0493\n",
      "Epoch 109/200\n",
      "\u001b[1m187/187\u001b[0m \u001b[32m━━━━━━━━━━━━━━━━━━━━\u001b[0m\u001b[37m\u001b[0m \u001b[1m1s\u001b[0m 3ms/step - loss: 0.0061 - mae: 0.0547 - val_loss: 0.0052 - val_mae: 0.0519\n",
      "Epoch 110/200\n",
      "\u001b[1m187/187\u001b[0m \u001b[32m━━━━━━━━━━━━━━━━━━━━\u001b[0m\u001b[37m\u001b[0m \u001b[1m1s\u001b[0m 3ms/step - loss: 0.0073 - mae: 0.0569 - val_loss: 0.0049 - val_mae: 0.0509\n",
      "Epoch 111/200\n",
      "\u001b[1m187/187\u001b[0m \u001b[32m━━━━━━━━━━━━━━━━━━━━\u001b[0m\u001b[37m\u001b[0m \u001b[1m1s\u001b[0m 4ms/step - loss: 0.0066 - mae: 0.0557 - val_loss: 0.0049 - val_mae: 0.0510\n",
      "Epoch 112/200\n",
      "\u001b[1m187/187\u001b[0m \u001b[32m━━━━━━━━━━━━━━━━━━━━\u001b[0m\u001b[37m\u001b[0m \u001b[1m1s\u001b[0m 3ms/step - loss: 0.0066 - mae: 0.0558 - val_loss: 0.0047 - val_mae: 0.0499\n",
      "Epoch 113/200\n",
      "\u001b[1m187/187\u001b[0m \u001b[32m━━━━━━━━━━━━━━━━━━━━\u001b[0m\u001b[37m\u001b[0m \u001b[1m1s\u001b[0m 4ms/step - loss: 0.0071 - mae: 0.0574 - val_loss: 0.0053 - val_mae: 0.0538\n",
      "Epoch 114/200\n",
      "\u001b[1m187/187\u001b[0m \u001b[32m━━━━━━━━━━━━━━━━━━━━\u001b[0m\u001b[37m\u001b[0m \u001b[1m1s\u001b[0m 4ms/step - loss: 0.0068 - mae: 0.0573 - val_loss: 0.0049 - val_mae: 0.0487\n",
      "Epoch 115/200\n",
      "\u001b[1m187/187\u001b[0m \u001b[32m━━━━━━━━━━━━━━━━━━━━\u001b[0m\u001b[37m\u001b[0m \u001b[1m1s\u001b[0m 3ms/step - loss: 0.0067 - mae: 0.0565 - val_loss: 0.0047 - val_mae: 0.0504\n",
      "Epoch 116/200\n",
      "\u001b[1m187/187\u001b[0m \u001b[32m━━━━━━━━━━━━━━━━━━━━\u001b[0m\u001b[37m\u001b[0m \u001b[1m1s\u001b[0m 4ms/step - loss: 0.0067 - mae: 0.0555 - val_loss: 0.0057 - val_mae: 0.0528\n",
      "Epoch 117/200\n",
      "\u001b[1m187/187\u001b[0m \u001b[32m━━━━━━━━━━━━━━━━━━━━\u001b[0m\u001b[37m\u001b[0m \u001b[1m1s\u001b[0m 3ms/step - loss: 0.0071 - mae: 0.0578 - val_loss: 0.0049 - val_mae: 0.0478\n",
      "Epoch 118/200\n",
      "\u001b[1m187/187\u001b[0m \u001b[32m━━━━━━━━━━━━━━━━━━━━\u001b[0m\u001b[37m\u001b[0m \u001b[1m1s\u001b[0m 3ms/step - loss: 0.0067 - mae: 0.0556 - val_loss: 0.0048 - val_mae: 0.0493\n",
      "Epoch 119/200\n",
      "\u001b[1m187/187\u001b[0m \u001b[32m━━━━━━━━━━━━━━━━━━━━\u001b[0m\u001b[37m\u001b[0m \u001b[1m1s\u001b[0m 4ms/step - loss: 0.0069 - mae: 0.0565 - val_loss: 0.0045 - val_mae: 0.0478\n",
      "Epoch 120/200\n",
      "\u001b[1m187/187\u001b[0m \u001b[32m━━━━━━━━━━━━━━━━━━━━\u001b[0m\u001b[37m\u001b[0m \u001b[1m1s\u001b[0m 4ms/step - loss: 0.0066 - mae: 0.0563 - val_loss: 0.0045 - val_mae: 0.0495\n",
      "Epoch 121/200\n",
      "\u001b[1m187/187\u001b[0m \u001b[32m━━━━━━━━━━━━━━━━━━━━\u001b[0m\u001b[37m\u001b[0m \u001b[1m1s\u001b[0m 4ms/step - loss: 0.0065 - mae: 0.0553 - val_loss: 0.0054 - val_mae: 0.0514\n",
      "Epoch 122/200\n",
      "\u001b[1m187/187\u001b[0m \u001b[32m━━━━━━━━━━━━━━━━━━━━\u001b[0m\u001b[37m\u001b[0m \u001b[1m1s\u001b[0m 3ms/step - loss: 0.0070 - mae: 0.0563 - val_loss: 0.0043 - val_mae: 0.0474\n",
      "Epoch 123/200\n",
      "\u001b[1m187/187\u001b[0m \u001b[32m━━━━━━━━━━━━━━━━━━━━\u001b[0m\u001b[37m\u001b[0m \u001b[1m1s\u001b[0m 3ms/step - loss: 0.0068 - mae: 0.0570 - val_loss: 0.0053 - val_mae: 0.0521\n",
      "Epoch 124/200\n",
      "\u001b[1m187/187\u001b[0m \u001b[32m━━━━━━━━━━━━━━━━━━━━\u001b[0m\u001b[37m\u001b[0m \u001b[1m1s\u001b[0m 4ms/step - loss: 0.0070 - mae: 0.0576 - val_loss: 0.0044 - val_mae: 0.0477\n",
      "Epoch 125/200\n",
      "\u001b[1m187/187\u001b[0m \u001b[32m━━━━━━━━━━━━━━━━━━━━\u001b[0m\u001b[37m\u001b[0m \u001b[1m1s\u001b[0m 3ms/step - loss: 0.0073 - mae: 0.0578 - val_loss: 0.0052 - val_mae: 0.0518\n",
      "Epoch 126/200\n",
      "\u001b[1m187/187\u001b[0m \u001b[32m━━━━━━━━━━━━━━━━━━━━\u001b[0m\u001b[37m\u001b[0m \u001b[1m1s\u001b[0m 3ms/step - loss: 0.0066 - mae: 0.0552 - val_loss: 0.0048 - val_mae: 0.0498\n",
      "Epoch 127/200\n",
      "\u001b[1m187/187\u001b[0m \u001b[32m━━━━━━━━━━━━━━━━━━━━\u001b[0m\u001b[37m\u001b[0m \u001b[1m1s\u001b[0m 4ms/step - loss: 0.0069 - mae: 0.0562 - val_loss: 0.0054 - val_mae: 0.0511\n",
      "Epoch 128/200\n",
      "\u001b[1m187/187\u001b[0m \u001b[32m━━━━━━━━━━━━━━━━━━━━\u001b[0m\u001b[37m\u001b[0m \u001b[1m1s\u001b[0m 3ms/step - loss: 0.0067 - mae: 0.0560 - val_loss: 0.0044 - val_mae: 0.0490\n",
      "Epoch 129/200\n",
      "\u001b[1m187/187\u001b[0m \u001b[32m━━━━━━━━━━━━━━━━━━━━\u001b[0m\u001b[37m\u001b[0m \u001b[1m1s\u001b[0m 3ms/step - loss: 0.0065 - mae: 0.0550 - val_loss: 0.0058 - val_mae: 0.0527\n",
      "Epoch 130/200\n",
      "\u001b[1m187/187\u001b[0m \u001b[32m━━━━━━━━━━━━━━━━━━━━\u001b[0m\u001b[37m\u001b[0m \u001b[1m1s\u001b[0m 3ms/step - loss: 0.0074 - mae: 0.0581 - val_loss: 0.0041 - val_mae: 0.0463\n",
      "Epoch 131/200\n",
      "\u001b[1m187/187\u001b[0m \u001b[32m━━━━━━━━━━━━━━━━━━━━\u001b[0m\u001b[37m\u001b[0m \u001b[1m1s\u001b[0m 3ms/step - loss: 0.0066 - mae: 0.0563 - val_loss: 0.0066 - val_mae: 0.0570\n",
      "Epoch 132/200\n",
      "\u001b[1m187/187\u001b[0m \u001b[32m━━━━━━━━━━━━━━━━━━━━\u001b[0m\u001b[37m\u001b[0m \u001b[1m1s\u001b[0m 4ms/step - loss: 0.0070 - mae: 0.0567 - val_loss: 0.0053 - val_mae: 0.0510\n",
      "Epoch 133/200\n",
      "\u001b[1m187/187\u001b[0m \u001b[32m━━━━━━━━━━━━━━━━━━━━\u001b[0m\u001b[37m\u001b[0m \u001b[1m1s\u001b[0m 3ms/step - loss: 0.0064 - mae: 0.0549 - val_loss: 0.0042 - val_mae: 0.0464\n",
      "Epoch 134/200\n",
      "\u001b[1m187/187\u001b[0m \u001b[32m━━━━━━━━━━━━━━━━━━━━\u001b[0m\u001b[37m\u001b[0m \u001b[1m1s\u001b[0m 4ms/step - loss: 0.0069 - mae: 0.0568 - val_loss: 0.0048 - val_mae: 0.0481\n",
      "Epoch 135/200\n",
      "\u001b[1m187/187\u001b[0m \u001b[32m━━━━━━━━━━━━━━━━━━━━\u001b[0m\u001b[37m\u001b[0m \u001b[1m1s\u001b[0m 4ms/step - loss: 0.0069 - mae: 0.0569 - val_loss: 0.0043 - val_mae: 0.0472\n",
      "Epoch 136/200\n",
      "\u001b[1m187/187\u001b[0m \u001b[32m━━━━━━━━━━━━━━━━━━━━\u001b[0m\u001b[37m\u001b[0m \u001b[1m1s\u001b[0m 4ms/step - loss: 0.0071 - mae: 0.0570 - val_loss: 0.0048 - val_mae: 0.0486\n",
      "Epoch 137/200\n",
      "\u001b[1m187/187\u001b[0m \u001b[32m━━━━━━━━━━━━━━━━━━━━\u001b[0m\u001b[37m\u001b[0m \u001b[1m1s\u001b[0m 4ms/step - loss: 0.0067 - mae: 0.0558 - val_loss: 0.0051 - val_mae: 0.0494\n",
      "Epoch 138/200\n",
      "\u001b[1m187/187\u001b[0m \u001b[32m━━━━━━━━━━━━━━━━━━━━\u001b[0m\u001b[37m\u001b[0m \u001b[1m1s\u001b[0m 3ms/step - loss: 0.0070 - mae: 0.0561 - val_loss: 0.0045 - val_mae: 0.0488\n",
      "Epoch 139/200\n",
      "\u001b[1m187/187\u001b[0m \u001b[32m━━━━━━━━━━━━━━━━━━━━\u001b[0m\u001b[37m\u001b[0m \u001b[1m1s\u001b[0m 3ms/step - loss: 0.0075 - mae: 0.0580 - val_loss: 0.0048 - val_mae: 0.0476\n",
      "Epoch 140/200\n",
      "\u001b[1m187/187\u001b[0m \u001b[32m━━━━━━━━━━━━━━━━━━━━\u001b[0m\u001b[37m\u001b[0m \u001b[1m1s\u001b[0m 3ms/step - loss: 0.0069 - mae: 0.0569 - val_loss: 0.0044 - val_mae: 0.0491\n",
      "Epoch 141/200\n",
      "\u001b[1m187/187\u001b[0m \u001b[32m━━━━━━━━━━━━━━━━━━━━\u001b[0m\u001b[37m\u001b[0m \u001b[1m1s\u001b[0m 3ms/step - loss: 0.0067 - mae: 0.0562 - val_loss: 0.0049 - val_mae: 0.0520\n",
      "Epoch 142/200\n",
      "\u001b[1m187/187\u001b[0m \u001b[32m━━━━━━━━━━━━━━━━━━━━\u001b[0m\u001b[37m\u001b[0m \u001b[1m1s\u001b[0m 4ms/step - loss: 0.0074 - mae: 0.0572 - val_loss: 0.0045 - val_mae: 0.0480\n",
      "Epoch 143/200\n",
      "\u001b[1m187/187\u001b[0m \u001b[32m━━━━━━━━━━━━━━━━━━━━\u001b[0m\u001b[37m\u001b[0m \u001b[1m1s\u001b[0m 3ms/step - loss: 0.0070 - mae: 0.0576 - val_loss: 0.0042 - val_mae: 0.0469\n",
      "Epoch 144/200\n",
      "\u001b[1m187/187\u001b[0m \u001b[32m━━━━━━━━━━━━━━━━━━━━\u001b[0m\u001b[37m\u001b[0m \u001b[1m1s\u001b[0m 3ms/step - loss: 0.0069 - mae: 0.0565 - val_loss: 0.0047 - val_mae: 0.0486\n",
      "Epoch 145/200\n",
      "\u001b[1m187/187\u001b[0m \u001b[32m━━━━━━━━━━━━━━━━━━━━\u001b[0m\u001b[37m\u001b[0m \u001b[1m1s\u001b[0m 3ms/step - loss: 0.0065 - mae: 0.0549 - val_loss: 0.0049 - val_mae: 0.0482\n",
      "Epoch 146/200\n",
      "\u001b[1m187/187\u001b[0m \u001b[32m━━━━━━━━━━━━━━━━━━━━\u001b[0m\u001b[37m\u001b[0m \u001b[1m1s\u001b[0m 3ms/step - loss: 0.0076 - mae: 0.0579 - val_loss: 0.0051 - val_mae: 0.0495\n",
      "Epoch 147/200\n",
      "\u001b[1m187/187\u001b[0m \u001b[32m━━━━━━━━━━━━━━━━━━━━\u001b[0m\u001b[37m\u001b[0m \u001b[1m1s\u001b[0m 4ms/step - loss: 0.0073 - mae: 0.0580 - val_loss: 0.0047 - val_mae: 0.0495\n",
      "Epoch 148/200\n",
      "\u001b[1m187/187\u001b[0m \u001b[32m━━━━━━━━━━━━━━━━━━━━\u001b[0m\u001b[37m\u001b[0m \u001b[1m1s\u001b[0m 4ms/step - loss: 0.0073 - mae: 0.0576 - val_loss: 0.0044 - val_mae: 0.0465\n",
      "Epoch 149/200\n",
      "\u001b[1m187/187\u001b[0m \u001b[32m━━━━━━━━━━━━━━━━━━━━\u001b[0m\u001b[37m\u001b[0m \u001b[1m1s\u001b[0m 4ms/step - loss: 0.0068 - mae: 0.0563 - val_loss: 0.0044 - val_mae: 0.0461\n",
      "Epoch 150/200\n",
      "\u001b[1m187/187\u001b[0m \u001b[32m━━━━━━━━━━━━━━━━━━━━\u001b[0m\u001b[37m\u001b[0m \u001b[1m1s\u001b[0m 3ms/step - loss: 0.0071 - mae: 0.0572 - val_loss: 0.0047 - val_mae: 0.0476\n",
      "Epoch 151/200\n",
      "\u001b[1m187/187\u001b[0m \u001b[32m━━━━━━━━━━━━━━━━━━━━\u001b[0m\u001b[37m\u001b[0m \u001b[1m1s\u001b[0m 4ms/step - loss: 0.0064 - mae: 0.0557 - val_loss: 0.0041 - val_mae: 0.0480\n",
      "Epoch 152/200\n",
      "\u001b[1m187/187\u001b[0m \u001b[32m━━━━━━━━━━━━━━━━━━━━\u001b[0m\u001b[37m\u001b[0m \u001b[1m1s\u001b[0m 3ms/step - loss: 0.0067 - mae: 0.0561 - val_loss: 0.0043 - val_mae: 0.0481\n",
      "Epoch 153/200\n",
      "\u001b[1m187/187\u001b[0m \u001b[32m━━━━━━━━━━━━━━━━━━━━\u001b[0m\u001b[37m\u001b[0m \u001b[1m1s\u001b[0m 3ms/step - loss: 0.0069 - mae: 0.0567 - val_loss: 0.0051 - val_mae: 0.0505\n",
      "Epoch 154/200\n",
      "\u001b[1m187/187\u001b[0m \u001b[32m━━━━━━━━━━━━━━━━━━━━\u001b[0m\u001b[37m\u001b[0m \u001b[1m1s\u001b[0m 3ms/step - loss: 0.0067 - mae: 0.0554 - val_loss: 0.0048 - val_mae: 0.0467\n",
      "Epoch 155/200\n",
      "\u001b[1m187/187\u001b[0m \u001b[32m━━━━━━━━━━━━━━━━━━━━\u001b[0m\u001b[37m\u001b[0m \u001b[1m1s\u001b[0m 3ms/step - loss: 0.0073 - mae: 0.0572 - val_loss: 0.0053 - val_mae: 0.0503\n",
      "Epoch 156/200\n",
      "\u001b[1m187/187\u001b[0m \u001b[32m━━━━━━━━━━━━━━━━━━━━\u001b[0m\u001b[37m\u001b[0m \u001b[1m1s\u001b[0m 4ms/step - loss: 0.0067 - mae: 0.0575 - val_loss: 0.0041 - val_mae: 0.0456\n",
      "Epoch 157/200\n",
      "\u001b[1m187/187\u001b[0m \u001b[32m━━━━━━━━━━━━━━━━━━━━\u001b[0m\u001b[37m\u001b[0m \u001b[1m1s\u001b[0m 3ms/step - loss: 0.0068 - mae: 0.0563 - val_loss: 0.0052 - val_mae: 0.0513\n",
      "Epoch 158/200\n",
      "\u001b[1m187/187\u001b[0m \u001b[32m━━━━━━━━━━━━━━━━━━━━\u001b[0m\u001b[37m\u001b[0m \u001b[1m1s\u001b[0m 4ms/step - loss: 0.0065 - mae: 0.0545 - val_loss: 0.0046 - val_mae: 0.0464\n",
      "Epoch 159/200\n",
      "\u001b[1m187/187\u001b[0m \u001b[32m━━━━━━━━━━━━━━━━━━━━\u001b[0m\u001b[37m\u001b[0m \u001b[1m1s\u001b[0m 3ms/step - loss: 0.0064 - mae: 0.0548 - val_loss: 0.0045 - val_mae: 0.0482\n",
      "Epoch 160/200\n",
      "\u001b[1m187/187\u001b[0m \u001b[32m━━━━━━━━━━━━━━━━━━━━\u001b[0m\u001b[37m\u001b[0m \u001b[1m1s\u001b[0m 4ms/step - loss: 0.0076 - mae: 0.0587 - val_loss: 0.0052 - val_mae: 0.0497\n",
      "Epoch 161/200\n",
      "\u001b[1m187/187\u001b[0m \u001b[32m━━━━━━━━━━━━━━━━━━━━\u001b[0m\u001b[37m\u001b[0m \u001b[1m1s\u001b[0m 3ms/step - loss: 0.0072 - mae: 0.0575 - val_loss: 0.0052 - val_mae: 0.0515\n",
      "Epoch 162/200\n",
      "\u001b[1m187/187\u001b[0m \u001b[32m━━━━━━━━━━━━━━━━━━━━\u001b[0m\u001b[37m\u001b[0m \u001b[1m1s\u001b[0m 3ms/step - loss: 0.0065 - mae: 0.0554 - val_loss: 0.0044 - val_mae: 0.0479\n",
      "Epoch 163/200\n",
      "\u001b[1m187/187\u001b[0m \u001b[32m━━━━━━━━━━━━━━━━━━━━\u001b[0m\u001b[37m\u001b[0m \u001b[1m1s\u001b[0m 4ms/step - loss: 0.0066 - mae: 0.0552 - val_loss: 0.0046 - val_mae: 0.0485\n",
      "Epoch 164/200\n",
      "\u001b[1m187/187\u001b[0m \u001b[32m━━━━━━━━━━━━━━━━━━━━\u001b[0m\u001b[37m\u001b[0m \u001b[1m1s\u001b[0m 3ms/step - loss: 0.0069 - mae: 0.0560 - val_loss: 0.0050 - val_mae: 0.0504\n",
      "Epoch 165/200\n",
      "\u001b[1m187/187\u001b[0m \u001b[32m━━━━━━━━━━━━━━━━━━━━\u001b[0m\u001b[37m\u001b[0m \u001b[1m1s\u001b[0m 3ms/step - loss: 0.0073 - mae: 0.0579 - val_loss: 0.0047 - val_mae: 0.0505\n",
      "Epoch 166/200\n",
      "\u001b[1m187/187\u001b[0m \u001b[32m━━━━━━━━━━━━━━━━━━━━\u001b[0m\u001b[37m\u001b[0m \u001b[1m1s\u001b[0m 4ms/step - loss: 0.0062 - mae: 0.0541 - val_loss: 0.0054 - val_mae: 0.0525\n",
      "Epoch 167/200\n",
      "\u001b[1m187/187\u001b[0m \u001b[32m━━━━━━━━━━━━━━━━━━━━\u001b[0m\u001b[37m\u001b[0m \u001b[1m1s\u001b[0m 4ms/step - loss: 0.0069 - mae: 0.0566 - val_loss: 0.0052 - val_mae: 0.0500\n",
      "Epoch 168/200\n",
      "\u001b[1m187/187\u001b[0m \u001b[32m━━━━━━━━━━━━━━━━━━━━\u001b[0m\u001b[37m\u001b[0m \u001b[1m1s\u001b[0m 3ms/step - loss: 0.0068 - mae: 0.0556 - val_loss: 0.0046 - val_mae: 0.0483\n",
      "Epoch 169/200\n",
      "\u001b[1m187/187\u001b[0m \u001b[32m━━━━━━━━━━━━━━━━━━━━\u001b[0m\u001b[37m\u001b[0m \u001b[1m1s\u001b[0m 4ms/step - loss: 0.0074 - mae: 0.0574 - val_loss: 0.0041 - val_mae: 0.0473\n",
      "Epoch 170/200\n",
      "\u001b[1m187/187\u001b[0m \u001b[32m━━━━━━━━━━━━━━━━━━━━\u001b[0m\u001b[37m\u001b[0m \u001b[1m1s\u001b[0m 3ms/step - loss: 0.0070 - mae: 0.0572 - val_loss: 0.0043 - val_mae: 0.0471\n",
      "Epoch 171/200\n",
      "\u001b[1m187/187\u001b[0m \u001b[32m━━━━━━━━━━━━━━━━━━━━\u001b[0m\u001b[37m\u001b[0m \u001b[1m1s\u001b[0m 3ms/step - loss: 0.0068 - mae: 0.0551 - val_loss: 0.0050 - val_mae: 0.0504\n",
      "Epoch 172/200\n",
      "\u001b[1m187/187\u001b[0m \u001b[32m━━━━━━━━━━━━━━━━━━━━\u001b[0m\u001b[37m\u001b[0m \u001b[1m1s\u001b[0m 4ms/step - loss: 0.0072 - mae: 0.0570 - val_loss: 0.0051 - val_mae: 0.0507\n",
      "Epoch 173/200\n",
      "\u001b[1m187/187\u001b[0m \u001b[32m━━━━━━━━━━━━━━━━━━━━\u001b[0m\u001b[37m\u001b[0m \u001b[1m1s\u001b[0m 3ms/step - loss: 0.0073 - mae: 0.0569 - val_loss: 0.0049 - val_mae: 0.0509\n",
      "Epoch 174/200\n",
      "\u001b[1m187/187\u001b[0m \u001b[32m━━━━━━━━━━━━━━━━━━━━\u001b[0m\u001b[37m\u001b[0m \u001b[1m1s\u001b[0m 4ms/step - loss: 0.0070 - mae: 0.0574 - val_loss: 0.0045 - val_mae: 0.0475\n",
      "Epoch 175/200\n",
      "\u001b[1m187/187\u001b[0m \u001b[32m━━━━━━━━━━━━━━━━━━━━\u001b[0m\u001b[37m\u001b[0m \u001b[1m1s\u001b[0m 3ms/step - loss: 0.0067 - mae: 0.0551 - val_loss: 0.0044 - val_mae: 0.0492\n",
      "Epoch 176/200\n",
      "\u001b[1m187/187\u001b[0m \u001b[32m━━━━━━━━━━━━━━━━━━━━\u001b[0m\u001b[37m\u001b[0m \u001b[1m1s\u001b[0m 4ms/step - loss: 0.0071 - mae: 0.0569 - val_loss: 0.0046 - val_mae: 0.0502\n",
      "Epoch 177/200\n",
      "\u001b[1m187/187\u001b[0m \u001b[32m━━━━━━━━━━━━━━━━━━━━\u001b[0m\u001b[37m\u001b[0m \u001b[1m1s\u001b[0m 3ms/step - loss: 0.0071 - mae: 0.0569 - val_loss: 0.0046 - val_mae: 0.0489\n",
      "Epoch 178/200\n",
      "\u001b[1m187/187\u001b[0m \u001b[32m━━━━━━━━━━━━━━━━━━━━\u001b[0m\u001b[37m\u001b[0m \u001b[1m1s\u001b[0m 4ms/step - loss: 0.0071 - mae: 0.0573 - val_loss: 0.0043 - val_mae: 0.0462\n",
      "Epoch 179/200\n",
      "\u001b[1m187/187\u001b[0m \u001b[32m━━━━━━━━━━━━━━━━━━━━\u001b[0m\u001b[37m\u001b[0m \u001b[1m1s\u001b[0m 3ms/step - loss: 0.0073 - mae: 0.0581 - val_loss: 0.0056 - val_mae: 0.0513\n",
      "Epoch 180/200\n",
      "\u001b[1m187/187\u001b[0m \u001b[32m━━━━━━━━━━━━━━━━━━━━\u001b[0m\u001b[37m\u001b[0m \u001b[1m1s\u001b[0m 3ms/step - loss: 0.0076 - mae: 0.0587 - val_loss: 0.0045 - val_mae: 0.0485\n",
      "Epoch 181/200\n",
      "\u001b[1m187/187\u001b[0m \u001b[32m━━━━━━━━━━━━━━━━━━━━\u001b[0m\u001b[37m\u001b[0m \u001b[1m1s\u001b[0m 3ms/step - loss: 0.0071 - mae: 0.0567 - val_loss: 0.0058 - val_mae: 0.0504\n",
      "Epoch 182/200\n",
      "\u001b[1m187/187\u001b[0m \u001b[32m━━━━━━━━━━━━━━━━━━━━\u001b[0m\u001b[37m\u001b[0m \u001b[1m1s\u001b[0m 4ms/step - loss: 0.0067 - mae: 0.0558 - val_loss: 0.0047 - val_mae: 0.0496\n",
      "Epoch 183/200\n",
      "\u001b[1m187/187\u001b[0m \u001b[32m━━━━━━━━━━━━━━━━━━━━\u001b[0m\u001b[37m\u001b[0m \u001b[1m1s\u001b[0m 4ms/step - loss: 0.0071 - mae: 0.0578 - val_loss: 0.0051 - val_mae: 0.0520\n",
      "Epoch 184/200\n",
      "\u001b[1m187/187\u001b[0m \u001b[32m━━━━━━━━━━━━━━━━━━━━\u001b[0m\u001b[37m\u001b[0m \u001b[1m1s\u001b[0m 3ms/step - loss: 0.0065 - mae: 0.0552 - val_loss: 0.0046 - val_mae: 0.0481\n",
      "Epoch 185/200\n",
      "\u001b[1m187/187\u001b[0m \u001b[32m━━━━━━━━━━━━━━━━━━━━\u001b[0m\u001b[37m\u001b[0m \u001b[1m1s\u001b[0m 4ms/step - loss: 0.0070 - mae: 0.0572 - val_loss: 0.0043 - val_mae: 0.0474\n",
      "Epoch 186/200\n",
      "\u001b[1m187/187\u001b[0m \u001b[32m━━━━━━━━━━━━━━━━━━━━\u001b[0m\u001b[37m\u001b[0m \u001b[1m1s\u001b[0m 3ms/step - loss: 0.0067 - mae: 0.0557 - val_loss: 0.0044 - val_mae: 0.0467\n",
      "Epoch 187/200\n",
      "\u001b[1m187/187\u001b[0m \u001b[32m━━━━━━━━━━━━━━━━━━━━\u001b[0m\u001b[37m\u001b[0m \u001b[1m1s\u001b[0m 3ms/step - loss: 0.0069 - mae: 0.0569 - val_loss: 0.0047 - val_mae: 0.0473\n",
      "Epoch 188/200\n",
      "\u001b[1m187/187\u001b[0m \u001b[32m━━━━━━━━━━━━━━━━━━━━\u001b[0m\u001b[37m\u001b[0m \u001b[1m1s\u001b[0m 3ms/step - loss: 0.0074 - mae: 0.0568 - val_loss: 0.0043 - val_mae: 0.0475\n",
      "Epoch 189/200\n",
      "\u001b[1m187/187\u001b[0m \u001b[32m━━━━━━━━━━━━━━━━━━━━\u001b[0m\u001b[37m\u001b[0m \u001b[1m1s\u001b[0m 4ms/step - loss: 0.0071 - mae: 0.0562 - val_loss: 0.0048 - val_mae: 0.0517\n",
      "Epoch 190/200\n",
      "\u001b[1m187/187\u001b[0m \u001b[32m━━━━━━━━━━━━━━━━━━━━\u001b[0m\u001b[37m\u001b[0m \u001b[1m1s\u001b[0m 3ms/step - loss: 0.0074 - mae: 0.0584 - val_loss: 0.0054 - val_mae: 0.0478\n",
      "Epoch 191/200\n",
      "\u001b[1m187/187\u001b[0m \u001b[32m━━━━━━━━━━━━━━━━━━━━\u001b[0m\u001b[37m\u001b[0m \u001b[1m1s\u001b[0m 4ms/step - loss: 0.0075 - mae: 0.0579 - val_loss: 0.0061 - val_mae: 0.0529\n",
      "Epoch 192/200\n",
      "\u001b[1m187/187\u001b[0m \u001b[32m━━━━━━━━━━━━━━━━━━━━\u001b[0m\u001b[37m\u001b[0m \u001b[1m1s\u001b[0m 3ms/step - loss: 0.0068 - mae: 0.0560 - val_loss: 0.0058 - val_mae: 0.0520\n",
      "Epoch 193/200\n",
      "\u001b[1m187/187\u001b[0m \u001b[32m━━━━━━━━━━━━━━━━━━━━\u001b[0m\u001b[37m\u001b[0m \u001b[1m1s\u001b[0m 3ms/step - loss: 0.0070 - mae: 0.0559 - val_loss: 0.0046 - val_mae: 0.0471\n",
      "Epoch 194/200\n",
      "\u001b[1m187/187\u001b[0m \u001b[32m━━━━━━━━━━━━━━━━━━━━\u001b[0m\u001b[37m\u001b[0m \u001b[1m1s\u001b[0m 3ms/step - loss: 0.0067 - mae: 0.0564 - val_loss: 0.0048 - val_mae: 0.0482\n",
      "Epoch 195/200\n",
      "\u001b[1m187/187\u001b[0m \u001b[32m━━━━━━━━━━━━━━━━━━━━\u001b[0m\u001b[37m\u001b[0m \u001b[1m1s\u001b[0m 3ms/step - loss: 0.0076 - mae: 0.0579 - val_loss: 0.0041 - val_mae: 0.0462\n",
      "Epoch 196/200\n",
      "\u001b[1m187/187\u001b[0m \u001b[32m━━━━━━━━━━━━━━━━━━━━\u001b[0m\u001b[37m\u001b[0m \u001b[1m1s\u001b[0m 3ms/step - loss: 0.0066 - mae: 0.0555 - val_loss: 0.0040 - val_mae: 0.0454\n",
      "Epoch 197/200\n",
      "\u001b[1m187/187\u001b[0m \u001b[32m━━━━━━━━━━━━━━━━━━━━\u001b[0m\u001b[37m\u001b[0m \u001b[1m1s\u001b[0m 3ms/step - loss: 0.0071 - mae: 0.0571 - val_loss: 0.0051 - val_mae: 0.0505\n",
      "Epoch 198/200\n",
      "\u001b[1m187/187\u001b[0m \u001b[32m━━━━━━━━━━━━━━━━━━━━\u001b[0m\u001b[37m\u001b[0m \u001b[1m1s\u001b[0m 3ms/step - loss: 0.0068 - mae: 0.0549 - val_loss: 0.0043 - val_mae: 0.0484\n",
      "Epoch 199/200\n",
      "\u001b[1m187/187\u001b[0m \u001b[32m━━━━━━━━━━━━━━━━━━━━\u001b[0m\u001b[37m\u001b[0m \u001b[1m1s\u001b[0m 3ms/step - loss: 0.0064 - mae: 0.0556 - val_loss: 0.0044 - val_mae: 0.0486\n",
      "Epoch 200/200\n",
      "\u001b[1m187/187\u001b[0m \u001b[32m━━━━━━━━━━━━━━━━━━━━\u001b[0m\u001b[37m\u001b[0m \u001b[1m1s\u001b[0m 4ms/step - loss: 0.0069 - mae: 0.0563 - val_loss: 0.0048 - val_mae: 0.0489\n"
     ]
    }
   ],
   "source": [
    "history = model.fit(train_data,train_target,epochs = 200 , validation_data = (test_data,test_target))"
   ]
  },
  {
   "cell_type": "markdown",
   "id": "a57f22bb-b2df-4336-91a0-43a290c03fa3",
   "metadata": {},
   "source": [
    "#### We can say whether the trained is anough or not by looking at the loss graph"
   ]
  },
  {
   "cell_type": "code",
   "execution_count": 20,
   "id": "1a47ac38-ceba-40d6-b792-5e3e5f859247",
   "metadata": {},
   "outputs": [
    {
     "data": {
      "image/png": "[encoded data removed]",
      "text/plain": [
       "<Figure size 640x480 with 1 Axes>"
      ]
     },
     "metadata": {},
     "output_type": "display_data"
    }
   ],
   "source": [
    "plt.plot(model.history.history['loss'],label='loss')\n",
    "plt.plot(model.history.history['val_loss'],label='val loss')\n",
    "plt.legend()\n",
    "plt.xlabel('epochs')\n",
    "plt.ylabel('loss')\n",
    "plt.show()"
   ]
  },
  {
   "cell_type": "markdown",
   "id": "d14f6a8c-0510-4b82-9f99-297387ba81d7",
   "metadata": {},
   "source": [
    "##### We can't mesure the accurecy in regression problem. We use R2 Score to evaluate the model performence"
   ]
  },
  {
   "cell_type": "code",
   "execution_count": 21,
   "id": "f8f04704-9c67-475f-8ab4-dcb38d2b0389",
   "metadata": {},
   "outputs": [
    {
     "name": "stdout",
     "output_type": "stream",
     "text": [
      "\u001b[1m21/21\u001b[0m \u001b[32m━━━━━━━━━━━━━━━━━━━━\u001b[0m\u001b[37m\u001b[0m \u001b[1m0s\u001b[0m 7ms/step\n",
      "r2 score: 0.821734188444705\n"
     ]
    }
   ],
   "source": [
    "from sklearn.metrics import r2_score\n",
    "\n",
    "predicted_result=model.predict(test_data)\n",
    "\n",
    "r2=r2_score(test_target,predicted_result)\n",
    "print('r2 score:',r2)"
   ]
  },
  {
   "cell_type": "code",
   "execution_count": 22,
   "id": "0cf11f4d-3be4-4b7b-9c21-e43b32fd4cab",
   "metadata": {},
   "outputs": [
    {
     "name": "stdout",
     "output_type": "stream",
     "text": [
      "actual: [[0.1066823  0.00117233 0.2989449  0.04337632 0.05275498 0.00468933\n",
      "  0.22039859 0.24736225 0.91910903 0.10082063]]\n",
      "predicted: [[0.08858494 0.04827417 0.18996616 0.06741457 0.10005554 0.05115958\n",
      "  0.14789402 0.3034835  0.5740497  0.07567329]]\n"
     ]
    }
   ],
   "source": [
    "print('actual:',test_target[:10].T)\n",
    "print('predicted:',predicted_result[:10].T)"
   ]
  },
  {
   "cell_type": "code",
   "execution_count": 23,
   "id": "12e75b04-4ac3-48a1-a6bd-5e3e0ecb4e86",
   "metadata": {},
   "outputs": [
    {
     "name": "stdout",
     "output_type": "stream",
     "text": [
      "actual inverse scaled: [[ 9.2  0.2 25.6  3.8  4.6  0.5 18.9 21.2 78.5  8.7]]\n",
      "predicted inverse scaled: [[ 7.6562953  4.2177873 16.304113   5.8504624  8.634737   4.463912\n",
      "  12.715361  25.98714   49.066437   6.5549316]]\n"
     ]
    }
   ],
   "source": [
    "print('actual inverse scaled:',scaler_target.inverse_transform(test_target[:10]).T)\n",
    "print('predicted inverse scaled:',scaler_target.inverse_transform(predicted_result[:10]).T)"
   ]
  },
  {
   "cell_type": "code",
   "execution_count": null,
   "id": "ed633c10-acc2-4f63-98ca-b6ba06149811",
   "metadata": {},
   "outputs": [],
   "source": []
  }
 ],
 "metadata": {
  "kernelspec": {
   "display_name": "Python 3 (ipykernel)",
   "language": "python",
   "name": "python3"
  },
  "language_info": {
   "codemirror_mode": {
    "name": "ipython",
    "version": 3
   },
   "file_extension": ".py",
   "mimetype": "text/x-python",
   "name": "python",
   "nbconvert_exporter": "python",
   "pygments_lexer": "ipython3",
   "version": "3.12.6"
  }
 },
 "nbformat": 4,
 "nbformat_minor": 5
}
